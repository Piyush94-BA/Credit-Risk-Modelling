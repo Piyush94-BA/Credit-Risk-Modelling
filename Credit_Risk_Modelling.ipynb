{
  "nbformat": 4,
  "nbformat_minor": 0,
  "metadata": {
    "colab": {
      "name": "Credit Risk Modelling.ipynb",
      "provenance": [],
      "collapsed_sections": [
        "9GiWqFJidbs1",
        "SgTKzHKfjPaU",
        "YEKLDv2rNARr"
      ],
      "toc_visible": true,
      "include_colab_link": true
    },
    "kernelspec": {
      "display_name": "Python 3",
      "language": "python",
      "name": "python3"
    },
    "language_info": {
      "codemirror_mode": {
        "name": "ipython",
        "version": 3
      },
      "file_extension": ".py",
      "mimetype": "text/x-python",
      "name": "python",
      "nbconvert_exporter": "python",
      "pygments_lexer": "ipython3",
      "version": "3.7.4"
    }
  },
  "cells": [
    {
      "cell_type": "markdown",
      "metadata": {
        "id": "view-in-github",
        "colab_type": "text"
      },
      "source": [
        "<a href=\"https://colab.research.google.com/github/Piyush94-BA/Credit-Risk-Modelling/blob/main/Credit_Risk_Modelling.ipynb\" target=\"_parent\"><img src=\"https://colab.research.google.com/assets/colab-badge.svg\" alt=\"Open In Colab\"/></a>"
      ]
    },
    {
      "cell_type": "code",
      "metadata": {
        "id": "qkZBSdTTp4Z9"
      },
      "source": [
        "###Loading of important packages\n",
        "import warnings\n",
        "warnings.filterwarnings(\"ignore\")\n",
        "import pandas as pd\n",
        "import matplotlib.pyplot as plt\n",
        "import seaborn as sns\n",
        "import numpy as np\n",
        "from sklearn.model_selection import train_test_split\n",
        "from sklearn.linear_model import LogisticRegression\n",
        "from sklearn import metrics\n",
        "from sklearn import preprocessing\n",
        "from sklearn.metrics import classification_report\n",
        "from sklearn.metrics import confusion_matrix\n",
        "from sklearn.model_selection import GridSearchCV\n",
        "from sklearn.neighbors import KNeighborsClassifier\n",
        "from sklearn.model_selection import cross_val_score"
      ],
      "execution_count": null,
      "outputs": []
    },
    {
      "cell_type": "code",
      "metadata": {
        "id": "hpobZiA0k5uN"
      },
      "source": [
        "df0=pd.read_excel('Risk Analytics Assignment-2.xlsx', sheet_name='Data')"
      ],
      "execution_count": null,
      "outputs": []
    },
    {
      "cell_type": "code",
      "metadata": {
        "id": "qo9LiP_Bxchn",
        "colab": {
          "base_uri": "https://localhost:8080/"
        },
        "outputId": "7473c588-ffc0-4c2b-d8b8-ed51d8b62cb0"
      },
      "source": [
        "from google.colab import drive\n",
        "drive.mount('/content/drive')"
      ],
      "execution_count": null,
      "outputs": [
        {
          "output_type": "stream",
          "text": [
            "Drive already mounted at /content/drive; to attempt to forcibly remount, call drive.mount(\"/content/drive\", force_remount=True).\n"
          ],
          "name": "stdout"
        }
      ]
    },
    {
      "cell_type": "markdown",
      "metadata": {
        "id": "5NijfhAPh1K2"
      },
      "source": [
        "# Data Exploration (EDA)"
      ]
    },
    {
      "cell_type": "code",
      "metadata": {
        "colab": {
          "base_uri": "https://localhost:8080/",
          "height": 243
        },
        "id": "cHVf86JsceiX",
        "outputId": "b19c8ffd-707d-417e-d3cd-650525d4c4af"
      },
      "source": [
        "df0.head()"
      ],
      "execution_count": null,
      "outputs": [
        {
          "output_type": "execute_result",
          "data": {
            "text/html": [
              "<div>\n",
              "<style scoped>\n",
              "    .dataframe tbody tr th:only-of-type {\n",
              "        vertical-align: middle;\n",
              "    }\n",
              "\n",
              "    .dataframe tbody tr th {\n",
              "        vertical-align: top;\n",
              "    }\n",
              "\n",
              "    .dataframe thead th {\n",
              "        text-align: right;\n",
              "    }\n",
              "</style>\n",
              "<table border=\"1\" class=\"dataframe\">\n",
              "  <thead>\n",
              "    <tr style=\"text-align: right;\">\n",
              "      <th></th>\n",
              "      <th>Cust_Id</th>\n",
              "      <th>Location</th>\n",
              "      <th>Age</th>\n",
              "      <th>Car Ownership</th>\n",
              "      <th>Income</th>\n",
              "      <th>Home Type</th>\n",
              "      <th>Job Experience</th>\n",
              "      <th>Loan Purpose</th>\n",
              "      <th>Loan Grade</th>\n",
              "      <th>Loan Balance</th>\n",
              "      <th>Interest Rate</th>\n",
              "      <th>loan_status</th>\n",
              "      <th>Default History</th>\n",
              "      <th>Credit History</th>\n",
              "    </tr>\n",
              "  </thead>\n",
              "  <tbody>\n",
              "    <tr>\n",
              "      <th>0</th>\n",
              "      <td>1</td>\n",
              "      <td>Hyderabad</td>\n",
              "      <td>22</td>\n",
              "      <td>0</td>\n",
              "      <td>4425000</td>\n",
              "      <td>RENT</td>\n",
              "      <td>123.0</td>\n",
              "      <td>PERSONAL</td>\n",
              "      <td>D</td>\n",
              "      <td>2625000</td>\n",
              "      <td>16.02</td>\n",
              "      <td>1</td>\n",
              "      <td>Y</td>\n",
              "      <td>3</td>\n",
              "    </tr>\n",
              "    <tr>\n",
              "      <th>1</th>\n",
              "      <td>2</td>\n",
              "      <td>Pune</td>\n",
              "      <td>21</td>\n",
              "      <td>1</td>\n",
              "      <td>720000</td>\n",
              "      <td>OWN</td>\n",
              "      <td>5.0</td>\n",
              "      <td>EDUCATION</td>\n",
              "      <td>B</td>\n",
              "      <td>75000</td>\n",
              "      <td>11.14</td>\n",
              "      <td>0</td>\n",
              "      <td>N</td>\n",
              "      <td>2</td>\n",
              "    </tr>\n",
              "    <tr>\n",
              "      <th>2</th>\n",
              "      <td>3</td>\n",
              "      <td>Mumbai</td>\n",
              "      <td>25</td>\n",
              "      <td>1</td>\n",
              "      <td>720000</td>\n",
              "      <td>MORTGAGE</td>\n",
              "      <td>1.0</td>\n",
              "      <td>MEDICAL</td>\n",
              "      <td>C</td>\n",
              "      <td>412500</td>\n",
              "      <td>12.87</td>\n",
              "      <td>1</td>\n",
              "      <td>N</td>\n",
              "      <td>3</td>\n",
              "    </tr>\n",
              "    <tr>\n",
              "      <th>3</th>\n",
              "      <td>4</td>\n",
              "      <td>Hyderabad</td>\n",
              "      <td>23</td>\n",
              "      <td>1</td>\n",
              "      <td>4912500</td>\n",
              "      <td>RENT</td>\n",
              "      <td>4.0</td>\n",
              "      <td>MEDICAL</td>\n",
              "      <td>C</td>\n",
              "      <td>2625000</td>\n",
              "      <td>15.23</td>\n",
              "      <td>1</td>\n",
              "      <td>N</td>\n",
              "      <td>2</td>\n",
              "    </tr>\n",
              "    <tr>\n",
              "      <th>4</th>\n",
              "      <td>5</td>\n",
              "      <td>Delhi</td>\n",
              "      <td>24</td>\n",
              "      <td>1</td>\n",
              "      <td>4080000</td>\n",
              "      <td>RENT</td>\n",
              "      <td>8.0</td>\n",
              "      <td>MEDICAL</td>\n",
              "      <td>C</td>\n",
              "      <td>2625000</td>\n",
              "      <td>14.27</td>\n",
              "      <td>1</td>\n",
              "      <td>Y</td>\n",
              "      <td>4</td>\n",
              "    </tr>\n",
              "  </tbody>\n",
              "</table>\n",
              "</div>"
            ],
            "text/plain": [
              "   Cust_Id   Location  Age  ...  loan_status  Default History Credit History\n",
              "0        1  Hyderabad   22  ...            1                Y              3\n",
              "1        2       Pune   21  ...            0                N              2\n",
              "2        3     Mumbai   25  ...            1                N              3\n",
              "3        4  Hyderabad   23  ...            1                N              2\n",
              "4        5      Delhi   24  ...            1                Y              4\n",
              "\n",
              "[5 rows x 14 columns]"
            ]
          },
          "metadata": {
            "tags": []
          },
          "execution_count": 127
        }
      ]
    },
    {
      "cell_type": "code",
      "metadata": {
        "colab": {
          "base_uri": "https://localhost:8080/"
        },
        "id": "TXd4LDHOei_V",
        "outputId": "9c1d8815-f233-4a2f-83a1-891e0fb5abd1"
      },
      "source": [
        "df0.shape"
      ],
      "execution_count": null,
      "outputs": [
        {
          "output_type": "execute_result",
          "data": {
            "text/plain": [
              "(32581, 14)"
            ]
          },
          "metadata": {
            "tags": []
          },
          "execution_count": 128
        }
      ]
    },
    {
      "cell_type": "code",
      "metadata": {
        "id": "QaA9d3KT5AZS"
      },
      "source": [
        "# Dropping Cust_Id as it will not be required in analysis and modelling\n",
        "df=df0.drop(['Cust_Id'],axis=1)"
      ],
      "execution_count": null,
      "outputs": []
    },
    {
      "cell_type": "code",
      "metadata": {
        "colab": {
          "base_uri": "https://localhost:8080/",
          "height": 223
        },
        "id": "JX7Ne2SQvbxi",
        "outputId": "fe30d742-3dbd-479d-bea1-7ffc3fd0ed40"
      },
      "source": [
        "df.head()"
      ],
      "execution_count": null,
      "outputs": [
        {
          "output_type": "execute_result",
          "data": {
            "text/html": [
              "<div>\n",
              "<style scoped>\n",
              "    .dataframe tbody tr th:only-of-type {\n",
              "        vertical-align: middle;\n",
              "    }\n",
              "\n",
              "    .dataframe tbody tr th {\n",
              "        vertical-align: top;\n",
              "    }\n",
              "\n",
              "    .dataframe thead th {\n",
              "        text-align: right;\n",
              "    }\n",
              "</style>\n",
              "<table border=\"1\" class=\"dataframe\">\n",
              "  <thead>\n",
              "    <tr style=\"text-align: right;\">\n",
              "      <th></th>\n",
              "      <th>Location</th>\n",
              "      <th>Age</th>\n",
              "      <th>Car Ownership</th>\n",
              "      <th>Income</th>\n",
              "      <th>Home Type</th>\n",
              "      <th>Job Experience</th>\n",
              "      <th>Loan Purpose</th>\n",
              "      <th>Loan Grade</th>\n",
              "      <th>Loan Balance</th>\n",
              "      <th>Interest Rate</th>\n",
              "      <th>loan_status</th>\n",
              "      <th>Default History</th>\n",
              "      <th>Credit History</th>\n",
              "    </tr>\n",
              "  </thead>\n",
              "  <tbody>\n",
              "    <tr>\n",
              "      <th>0</th>\n",
              "      <td>Hyderabad</td>\n",
              "      <td>22</td>\n",
              "      <td>0</td>\n",
              "      <td>4425000</td>\n",
              "      <td>RENT</td>\n",
              "      <td>123.0</td>\n",
              "      <td>PERSONAL</td>\n",
              "      <td>D</td>\n",
              "      <td>2625000</td>\n",
              "      <td>16.02</td>\n",
              "      <td>1</td>\n",
              "      <td>Y</td>\n",
              "      <td>3</td>\n",
              "    </tr>\n",
              "    <tr>\n",
              "      <th>1</th>\n",
              "      <td>Pune</td>\n",
              "      <td>21</td>\n",
              "      <td>1</td>\n",
              "      <td>720000</td>\n",
              "      <td>OWN</td>\n",
              "      <td>5.0</td>\n",
              "      <td>EDUCATION</td>\n",
              "      <td>B</td>\n",
              "      <td>75000</td>\n",
              "      <td>11.14</td>\n",
              "      <td>0</td>\n",
              "      <td>N</td>\n",
              "      <td>2</td>\n",
              "    </tr>\n",
              "    <tr>\n",
              "      <th>2</th>\n",
              "      <td>Mumbai</td>\n",
              "      <td>25</td>\n",
              "      <td>1</td>\n",
              "      <td>720000</td>\n",
              "      <td>MORTGAGE</td>\n",
              "      <td>1.0</td>\n",
              "      <td>MEDICAL</td>\n",
              "      <td>C</td>\n",
              "      <td>412500</td>\n",
              "      <td>12.87</td>\n",
              "      <td>1</td>\n",
              "      <td>N</td>\n",
              "      <td>3</td>\n",
              "    </tr>\n",
              "    <tr>\n",
              "      <th>3</th>\n",
              "      <td>Hyderabad</td>\n",
              "      <td>23</td>\n",
              "      <td>1</td>\n",
              "      <td>4912500</td>\n",
              "      <td>RENT</td>\n",
              "      <td>4.0</td>\n",
              "      <td>MEDICAL</td>\n",
              "      <td>C</td>\n",
              "      <td>2625000</td>\n",
              "      <td>15.23</td>\n",
              "      <td>1</td>\n",
              "      <td>N</td>\n",
              "      <td>2</td>\n",
              "    </tr>\n",
              "    <tr>\n",
              "      <th>4</th>\n",
              "      <td>Delhi</td>\n",
              "      <td>24</td>\n",
              "      <td>1</td>\n",
              "      <td>4080000</td>\n",
              "      <td>RENT</td>\n",
              "      <td>8.0</td>\n",
              "      <td>MEDICAL</td>\n",
              "      <td>C</td>\n",
              "      <td>2625000</td>\n",
              "      <td>14.27</td>\n",
              "      <td>1</td>\n",
              "      <td>Y</td>\n",
              "      <td>4</td>\n",
              "    </tr>\n",
              "  </tbody>\n",
              "</table>\n",
              "</div>"
            ],
            "text/plain": [
              "    Location  Age  Car Ownership  ...  loan_status Default History  Credit History\n",
              "0  Hyderabad   22              0  ...            1               Y               3\n",
              "1       Pune   21              1  ...            0               N               2\n",
              "2     Mumbai   25              1  ...            1               N               3\n",
              "3  Hyderabad   23              1  ...            1               N               2\n",
              "4      Delhi   24              1  ...            1               Y               4\n",
              "\n",
              "[5 rows x 13 columns]"
            ]
          },
          "metadata": {
            "tags": []
          },
          "execution_count": 130
        }
      ]
    },
    {
      "cell_type": "code",
      "metadata": {
        "colab": {
          "base_uri": "https://localhost:8080/"
        },
        "id": "QTIOpsj05azE",
        "outputId": "ed7e1d22-8031-4080-8981-915e69c30086"
      },
      "source": [
        "df.shape"
      ],
      "execution_count": null,
      "outputs": [
        {
          "output_type": "execute_result",
          "data": {
            "text/plain": [
              "(32581, 13)"
            ]
          },
          "metadata": {
            "tags": []
          },
          "execution_count": 131
        }
      ]
    },
    {
      "cell_type": "code",
      "metadata": {
        "colab": {
          "base_uri": "https://localhost:8080/",
          "height": 300
        },
        "id": "hei8OnmXfFAy",
        "outputId": "7af472ce-cf66-4f79-e12b-43574819cb53"
      },
      "source": [
        "df.describe()"
      ],
      "execution_count": null,
      "outputs": [
        {
          "output_type": "execute_result",
          "data": {
            "text/html": [
              "<div>\n",
              "<style scoped>\n",
              "    .dataframe tbody tr th:only-of-type {\n",
              "        vertical-align: middle;\n",
              "    }\n",
              "\n",
              "    .dataframe tbody tr th {\n",
              "        vertical-align: top;\n",
              "    }\n",
              "\n",
              "    .dataframe thead th {\n",
              "        text-align: right;\n",
              "    }\n",
              "</style>\n",
              "<table border=\"1\" class=\"dataframe\">\n",
              "  <thead>\n",
              "    <tr style=\"text-align: right;\">\n",
              "      <th></th>\n",
              "      <th>Age</th>\n",
              "      <th>Car Ownership</th>\n",
              "      <th>Income</th>\n",
              "      <th>Job Experience</th>\n",
              "      <th>Loan Balance</th>\n",
              "      <th>Interest Rate</th>\n",
              "      <th>loan_status</th>\n",
              "      <th>Credit History</th>\n",
              "    </tr>\n",
              "  </thead>\n",
              "  <tbody>\n",
              "    <tr>\n",
              "      <th>count</th>\n",
              "      <td>32581.000000</td>\n",
              "      <td>32581.000000</td>\n",
              "      <td>3.258100e+04</td>\n",
              "      <td>31686.000000</td>\n",
              "      <td>3.258100e+04</td>\n",
              "      <td>29465.000000</td>\n",
              "      <td>32581.000000</td>\n",
              "      <td>32581.000000</td>\n",
              "    </tr>\n",
              "    <tr>\n",
              "      <th>mean</th>\n",
              "      <td>27.734600</td>\n",
              "      <td>0.500599</td>\n",
              "      <td>4.955614e+06</td>\n",
              "      <td>4.789686</td>\n",
              "      <td>7.192028e+05</td>\n",
              "      <td>11.011695</td>\n",
              "      <td>0.218164</td>\n",
              "      <td>5.804211</td>\n",
              "    </tr>\n",
              "    <tr>\n",
              "      <th>std</th>\n",
              "      <td>6.348078</td>\n",
              "      <td>0.500007</td>\n",
              "      <td>4.648734e+06</td>\n",
              "      <td>4.142630</td>\n",
              "      <td>4.741565e+05</td>\n",
              "      <td>3.240459</td>\n",
              "      <td>0.413006</td>\n",
              "      <td>4.055001</td>\n",
              "    </tr>\n",
              "    <tr>\n",
              "      <th>min</th>\n",
              "      <td>20.000000</td>\n",
              "      <td>0.000000</td>\n",
              "      <td>3.000000e+05</td>\n",
              "      <td>0.000000</td>\n",
              "      <td>3.750000e+04</td>\n",
              "      <td>5.420000</td>\n",
              "      <td>0.000000</td>\n",
              "      <td>2.000000</td>\n",
              "    </tr>\n",
              "    <tr>\n",
              "      <th>25%</th>\n",
              "      <td>23.000000</td>\n",
              "      <td>0.000000</td>\n",
              "      <td>2.887500e+06</td>\n",
              "      <td>2.000000</td>\n",
              "      <td>3.750000e+05</td>\n",
              "      <td>7.900000</td>\n",
              "      <td>0.000000</td>\n",
              "      <td>3.000000</td>\n",
              "    </tr>\n",
              "    <tr>\n",
              "      <th>50%</th>\n",
              "      <td>26.000000</td>\n",
              "      <td>1.000000</td>\n",
              "      <td>4.125000e+06</td>\n",
              "      <td>4.000000</td>\n",
              "      <td>6.000000e+05</td>\n",
              "      <td>10.990000</td>\n",
              "      <td>0.000000</td>\n",
              "      <td>4.000000</td>\n",
              "    </tr>\n",
              "    <tr>\n",
              "      <th>75%</th>\n",
              "      <td>30.000000</td>\n",
              "      <td>1.000000</td>\n",
              "      <td>5.940000e+06</td>\n",
              "      <td>7.000000</td>\n",
              "      <td>9.150000e+05</td>\n",
              "      <td>13.470000</td>\n",
              "      <td>0.000000</td>\n",
              "      <td>8.000000</td>\n",
              "    </tr>\n",
              "    <tr>\n",
              "      <th>max</th>\n",
              "      <td>144.000000</td>\n",
              "      <td>1.000000</td>\n",
              "      <td>4.500000e+08</td>\n",
              "      <td>123.000000</td>\n",
              "      <td>2.625000e+06</td>\n",
              "      <td>23.220000</td>\n",
              "      <td>1.000000</td>\n",
              "      <td>30.000000</td>\n",
              "    </tr>\n",
              "  </tbody>\n",
              "</table>\n",
              "</div>"
            ],
            "text/plain": [
              "                Age  Car Ownership  ...   loan_status  Credit History\n",
              "count  32581.000000   32581.000000  ...  32581.000000    32581.000000\n",
              "mean      27.734600       0.500599  ...      0.218164        5.804211\n",
              "std        6.348078       0.500007  ...      0.413006        4.055001\n",
              "min       20.000000       0.000000  ...      0.000000        2.000000\n",
              "25%       23.000000       0.000000  ...      0.000000        3.000000\n",
              "50%       26.000000       1.000000  ...      0.000000        4.000000\n",
              "75%       30.000000       1.000000  ...      0.000000        8.000000\n",
              "max      144.000000       1.000000  ...      1.000000       30.000000\n",
              "\n",
              "[8 rows x 8 columns]"
            ]
          },
          "metadata": {
            "tags": []
          },
          "execution_count": 132
        }
      ]
    },
    {
      "cell_type": "code",
      "metadata": {
        "colab": {
          "base_uri": "https://localhost:8080/"
        },
        "id": "g1PGj2NEhfMB",
        "outputId": "84ec8dd5-c640-4b24-bfad-508cd72d7de3"
      },
      "source": [
        "df.columns"
      ],
      "execution_count": null,
      "outputs": [
        {
          "output_type": "execute_result",
          "data": {
            "text/plain": [
              "Index(['Location', 'Age', 'Car Ownership', 'Income', 'Home Type',\n",
              "       'Job Experience', 'Loan Purpose', 'Loan Grade', 'Loan Balance',\n",
              "       'Interest Rate', 'loan_status', 'Default History', 'Credit History'],\n",
              "      dtype='object')"
            ]
          },
          "metadata": {
            "tags": []
          },
          "execution_count": 133
        }
      ]
    },
    {
      "cell_type": "markdown",
      "metadata": {
        "id": "8rUVg8QQiYOe"
      },
      "source": [
        "### Univariate Analysis"
      ]
    },
    {
      "cell_type": "code",
      "metadata": {
        "colab": {
          "base_uri": "https://localhost:8080/"
        },
        "id": "ggDuBFcGfLfX",
        "outputId": "474921d0-0148-4d9f-c9eb-b64e5101f2fc"
      },
      "source": [
        "#Checking if the target variable is balanced or not\n",
        "df.value_counts(\"loan_status\") #Imbalanced data"
      ],
      "execution_count": null,
      "outputs": [
        {
          "output_type": "execute_result",
          "data": {
            "text/plain": [
              "loan_status\n",
              "0    25473\n",
              "1     7108\n",
              "dtype: int64"
            ]
          },
          "metadata": {
            "tags": []
          },
          "execution_count": 134
        }
      ]
    },
    {
      "cell_type": "code",
      "metadata": {
        "colab": {
          "base_uri": "https://localhost:8080/"
        },
        "id": "OGKNCI8gijCw",
        "outputId": "8cbe120b-6b70-41db-a2f8-26b8c4b0761d"
      },
      "source": [
        "#Percentage of classes in target variable\n",
        "# Normalize can be set to True to print proportions instead of number \n",
        "df['loan_status'].value_counts(normalize=True)"
      ],
      "execution_count": null,
      "outputs": [
        {
          "output_type": "execute_result",
          "data": {
            "text/plain": [
              "0    0.781836\n",
              "1    0.218164\n",
              "Name: loan_status, dtype: float64"
            ]
          },
          "metadata": {
            "tags": []
          },
          "execution_count": 135
        }
      ]
    },
    {
      "cell_type": "code",
      "metadata": {
        "colab": {
          "base_uri": "https://localhost:8080/",
          "height": 195
        },
        "id": "daggg0o1mHq5",
        "outputId": "670a3dc5-0bcd-453a-d8b0-a0525ecaa070"
      },
      "source": [
        "#Plotting the distribution of the classes in categorical variables Loan_status, Default History, Car Ownership\n",
        "plt.figure(1)\n",
        "plt.subplot(131)\n",
        "df['loan_status'].value_counts(normalize=True).plot.pie(figsize=(10,10))\n",
        "\n",
        "plt.subplot(132)\n",
        "df[\"Default History\"].value_counts(normalize=True).plot.pie()\n",
        "\n",
        "plt.subplot(133)\n",
        "df['Car Ownership'].value_counts(normalize=True).plot.pie()\n",
        "\n",
        "plt.show()"
      ],
      "execution_count": null,
      "outputs": [
        {
          "output_type": "display_data",
          "data": {
            "image/png": "[encoded data removed]",
            "text/plain": [
              "<Figure size 720x720 with 3 Axes>"
            ]
          },
          "metadata": {
            "tags": []
          }
        }
      ]
    },
    {
      "cell_type": "code",
      "metadata": {
        "colab": {
          "base_uri": "https://localhost:8080/",
          "height": 755
        },
        "id": "F3UZgdJThkVA",
        "outputId": "9bcc9c2a-bcfe-4e46-c085-166183056e1d"
      },
      "source": [
        "#Plotting the distribution of classes in categorical variables Location, Home Type, Loan Purpose & Loan Grade\n",
        "plt.figure(1)\n",
        "plt.subplot(221)\n",
        "df['Location'].value_counts(normalize=True).plot.bar(figsize=(25,15), title= 'Location')\n",
        "\n",
        "plt.subplot(222)\n",
        "df['Home Type'].value_counts(normalize=True).plot.bar(title= 'Home Type')\n",
        "\n",
        "plt.subplot(223)\n",
        "df['Loan Purpose'].value_counts(normalize=True).plot.bar(title= 'Loan Purpose')\n",
        "\n",
        "plt.subplot(224)\n",
        "df['Loan Grade'].value_counts(normalize=True).plot.bar(title= 'Loan Grade')\n",
        "\n",
        "plt.show()"
      ],
      "execution_count": null,
      "outputs": [
        {
          "output_type": "display_data",
          "data": {
            "image/png": "[encoded data removed]",
            "text/plain": [
              "<Figure size 1800x1080 with 4 Axes>"
            ]
          },
          "metadata": {
            "tags": [],
            "needs_background": "light"
          }
        }
      ]
    },
    {
      "cell_type": "markdown",
      "metadata": {
        "id": "8l-27Qb0tl6G"
      },
      "source": [
        "### Bivariate Analysis\n",
        "\n"
      ]
    },
    {
      "cell_type": "code",
      "metadata": {
        "colab": {
          "base_uri": "https://localhost:8080/",
          "height": 460
        },
        "id": "FAb94AN8tpzS",
        "outputId": "8cf50daf-0dbf-4d37-daca-80d2de9a768c"
      },
      "source": [
        "# Correlation Matrix to understand the correlation of continuous variables in the data set\n",
        "matrix = df.corr()\n",
        "f, ax = plt.subplots(figsize=(9, 6))\n",
        "sns.heatmap(matrix, vmax=.8, square=True, cmap=\"BuPu\",annot=True)\n",
        "\n",
        "# Observations\n",
        "\n",
        "# Age has high correlation with Credit History"
      ],
      "execution_count": null,
      "outputs": [
        {
          "output_type": "execute_result",
          "data": {
            "text/plain": [
              "<matplotlib.axes._subplots.AxesSubplot at 0x7f206f743b70>"
            ]
          },
          "metadata": {
            "tags": []
          },
          "execution_count": 138
        },
        {
          "output_type": "display_data",
          "data": {
            "image/png": "[encoded data removed]",
            "text/plain": [
              "<Figure size 648x432 with 2 Axes>"
            ]
          },
          "metadata": {
            "tags": [],
            "needs_background": "light"
          }
        }
      ]
    },
    {
      "cell_type": "code",
      "metadata": {
        "colab": {
          "base_uri": "https://localhost:8080/",
          "height": 1000
        },
        "id": "UY__FGxdycKt",
        "outputId": "168614aa-1199-468d-aa96-04e570d8dee8"
      },
      "source": [
        "#Plotting the distribution of binary classes of loan_status in categorigal variables Location, Car Ownership, Home Type, Loan Purpose, Loan Grade, Default History.\n",
        "\n",
        "location=pd.crosstab(df['Location'],df['loan_status'])\n",
        "car_ownership=pd.crosstab(df['Car Ownership'],df['loan_status'])\n",
        "home_type=pd.crosstab(df['Home Type'],df['loan_status'])\n",
        "loan_Purpose=pd.crosstab(df['Loan Purpose'],df['loan_status'])\n",
        "loan_grade=pd.crosstab(df['Loan Grade'],df['loan_status'])\n",
        "default_history=pd.crosstab(df['Default History'],df['loan_status'])\n",
        "\n",
        "location.div(location.sum(1).astype(float), axis=0).plot(kind=\"bar\", stacked=True, figsize=(10,4))\n",
        "plt.show()\n",
        "car_ownership.div(car_ownership.sum(1).astype(float), axis=0).plot(kind=\"bar\", stacked=True, figsize=(4,4))\n",
        "plt.show()\n",
        "home_type.div(home_type.sum(1).astype(float), axis=0).plot(kind=\"bar\", stacked=True, figsize=(10,4))\n",
        "plt.show()\n",
        "loan_Purpose.div(loan_Purpose.sum(1).astype(float), axis=0).plot(kind=\"bar\", stacked=True, figsize=(10,4))\n",
        "plt.show()\n",
        "loan_grade.div(loan_grade.sum(1).astype(float), axis=0).plot(kind=\"bar\", stacked=True, figsize=(10,4))\n",
        "plt.show()\n",
        "default_history.div(default_history.sum(1).astype(float), axis=0).plot(kind=\"bar\", stacked=True, figsize=(4,4))\n",
        "plt.show()\n",
        "\n",
        "# Observations from the below graphs\n",
        "\n",
        "# 1) Default in all locations are almost same\n",
        "# 2) Loan default is almost same when the person has car or not\n",
        "# 3) Default is less for \"own\" and \"mortgage\" homes compared to others\n",
        "# 4) Default in Venture and Education purpose loans are less compared to others\n",
        "# 5) Loan default is increasing with loan grades from A to G"
      ],
      "execution_count": null,
      "outputs": [
        {
          "output_type": "display_data",
          "data": {
            "image/png": "[encoded data removed]",
            "text/plain": [
              "<Figure size 720x288 with 1 Axes>"
            ]
          },
          "metadata": {
            "tags": [],
            "needs_background": "light"
          }
        },
        {
          "output_type": "display_data",
          "data": {
            "image/png": "[encoded data removed]",
            "text/plain": [
              "<Figure size 288x288 with 1 Axes>"
            ]
          },
          "metadata": {
            "tags": [],
            "needs_background": "light"
          }
        },
        {
          "output_type": "display_data",
          "data": {
            "image/png": "[encoded data removed]",
            "text/plain": [
              "<Figure size 720x288 with 1 Axes>"
            ]
          },
          "metadata": {
            "tags": [],
            "needs_background": "light"
          }
        },
        {
          "output_type": "display_data",
          "data": {
            "image/png": "[encoded data removed]",
            "text/plain": [
              "<Figure size 720x288 with 1 Axes>"
            ]
          },
          "metadata": {
            "tags": [],
            "needs_background": "light"
          }
        },
        {
          "output_type": "display_data",
          "data": {
            "image/png": "[encoded data removed]",
            "text/plain": [
              "<Figure size 720x288 with 1 Axes>"
            ]
          },
          "metadata": {
            "tags": [],
            "needs_background": "light"
          }
        },
        {
          "output_type": "display_data",
          "data": {
            "image/png": "[encoded data removed]",
            "text/plain": [
              "<Figure size 288x288 with 1 Axes>"
            ]
          },
          "metadata": {
            "tags": [],
            "needs_background": "light"
          }
        }
      ]
    },
    {
      "cell_type": "markdown",
      "metadata": {
        "id": "nGwF52X8lAJP"
      },
      "source": [
        "### One Hot Encoding for Categorical Variables"
      ]
    },
    {
      "cell_type": "code",
      "metadata": {
        "id": "9kmky8I1k5ua",
        "colab": {
          "base_uri": "https://localhost:8080/",
          "height": 243
        },
        "outputId": "c94990bf-2da1-41e1-dd60-a8081ecc65a2"
      },
      "source": [
        "\n",
        "df=pd.get_dummies(df)\n",
        "df.head()"
      ],
      "execution_count": null,
      "outputs": [
        {
          "output_type": "execute_result",
          "data": {
            "text/html": [
              "<div>\n",
              "<style scoped>\n",
              "    .dataframe tbody tr th:only-of-type {\n",
              "        vertical-align: middle;\n",
              "    }\n",
              "\n",
              "    .dataframe tbody tr th {\n",
              "        vertical-align: top;\n",
              "    }\n",
              "\n",
              "    .dataframe thead th {\n",
              "        text-align: right;\n",
              "    }\n",
              "</style>\n",
              "<table border=\"1\" class=\"dataframe\">\n",
              "  <thead>\n",
              "    <tr style=\"text-align: right;\">\n",
              "      <th></th>\n",
              "      <th>Age</th>\n",
              "      <th>Car Ownership</th>\n",
              "      <th>Income</th>\n",
              "      <th>Job Experience</th>\n",
              "      <th>Loan Balance</th>\n",
              "      <th>Interest Rate</th>\n",
              "      <th>loan_status</th>\n",
              "      <th>Credit History</th>\n",
              "      <th>Location_Bangalore</th>\n",
              "      <th>Location_Chennai</th>\n",
              "      <th>Location_Delhi</th>\n",
              "      <th>Location_Hyderabad</th>\n",
              "      <th>Location_Kolkata</th>\n",
              "      <th>Location_Mumbai</th>\n",
              "      <th>Location_Pune</th>\n",
              "      <th>Home Type_MORTGAGE</th>\n",
              "      <th>Home Type_OTHER</th>\n",
              "      <th>Home Type_OWN</th>\n",
              "      <th>Home Type_RENT</th>\n",
              "      <th>Loan Purpose_DEBTCONSOLIDATION</th>\n",
              "      <th>Loan Purpose_EDUCATION</th>\n",
              "      <th>Loan Purpose_HOMEIMPROVEMENT</th>\n",
              "      <th>Loan Purpose_MEDICAL</th>\n",
              "      <th>Loan Purpose_PERSONAL</th>\n",
              "      <th>Loan Purpose_VENTURE</th>\n",
              "      <th>Loan Grade_A</th>\n",
              "      <th>Loan Grade_B</th>\n",
              "      <th>Loan Grade_C</th>\n",
              "      <th>Loan Grade_D</th>\n",
              "      <th>Loan Grade_E</th>\n",
              "      <th>Loan Grade_F</th>\n",
              "      <th>Loan Grade_G</th>\n",
              "      <th>Default History_N</th>\n",
              "      <th>Default History_Y</th>\n",
              "    </tr>\n",
              "  </thead>\n",
              "  <tbody>\n",
              "    <tr>\n",
              "      <th>0</th>\n",
              "      <td>22</td>\n",
              "      <td>0</td>\n",
              "      <td>4425000</td>\n",
              "      <td>123.0</td>\n",
              "      <td>2625000</td>\n",
              "      <td>16.02</td>\n",
              "      <td>1</td>\n",
              "      <td>3</td>\n",
              "      <td>0</td>\n",
              "      <td>0</td>\n",
              "      <td>0</td>\n",
              "      <td>1</td>\n",
              "      <td>0</td>\n",
              "      <td>0</td>\n",
              "      <td>0</td>\n",
              "      <td>0</td>\n",
              "      <td>0</td>\n",
              "      <td>0</td>\n",
              "      <td>1</td>\n",
              "      <td>0</td>\n",
              "      <td>0</td>\n",
              "      <td>0</td>\n",
              "      <td>0</td>\n",
              "      <td>1</td>\n",
              "      <td>0</td>\n",
              "      <td>0</td>\n",
              "      <td>0</td>\n",
              "      <td>0</td>\n",
              "      <td>1</td>\n",
              "      <td>0</td>\n",
              "      <td>0</td>\n",
              "      <td>0</td>\n",
              "      <td>0</td>\n",
              "      <td>1</td>\n",
              "    </tr>\n",
              "    <tr>\n",
              "      <th>1</th>\n",
              "      <td>21</td>\n",
              "      <td>1</td>\n",
              "      <td>720000</td>\n",
              "      <td>5.0</td>\n",
              "      <td>75000</td>\n",
              "      <td>11.14</td>\n",
              "      <td>0</td>\n",
              "      <td>2</td>\n",
              "      <td>0</td>\n",
              "      <td>0</td>\n",
              "      <td>0</td>\n",
              "      <td>0</td>\n",
              "      <td>0</td>\n",
              "      <td>0</td>\n",
              "      <td>1</td>\n",
              "      <td>0</td>\n",
              "      <td>0</td>\n",
              "      <td>1</td>\n",
              "      <td>0</td>\n",
              "      <td>0</td>\n",
              "      <td>1</td>\n",
              "      <td>0</td>\n",
              "      <td>0</td>\n",
              "      <td>0</td>\n",
              "      <td>0</td>\n",
              "      <td>0</td>\n",
              "      <td>1</td>\n",
              "      <td>0</td>\n",
              "      <td>0</td>\n",
              "      <td>0</td>\n",
              "      <td>0</td>\n",
              "      <td>0</td>\n",
              "      <td>1</td>\n",
              "      <td>0</td>\n",
              "    </tr>\n",
              "    <tr>\n",
              "      <th>2</th>\n",
              "      <td>25</td>\n",
              "      <td>1</td>\n",
              "      <td>720000</td>\n",
              "      <td>1.0</td>\n",
              "      <td>412500</td>\n",
              "      <td>12.87</td>\n",
              "      <td>1</td>\n",
              "      <td>3</td>\n",
              "      <td>0</td>\n",
              "      <td>0</td>\n",
              "      <td>0</td>\n",
              "      <td>0</td>\n",
              "      <td>0</td>\n",
              "      <td>1</td>\n",
              "      <td>0</td>\n",
              "      <td>1</td>\n",
              "      <td>0</td>\n",
              "      <td>0</td>\n",
              "      <td>0</td>\n",
              "      <td>0</td>\n",
              "      <td>0</td>\n",
              "      <td>0</td>\n",
              "      <td>1</td>\n",
              "      <td>0</td>\n",
              "      <td>0</td>\n",
              "      <td>0</td>\n",
              "      <td>0</td>\n",
              "      <td>1</td>\n",
              "      <td>0</td>\n",
              "      <td>0</td>\n",
              "      <td>0</td>\n",
              "      <td>0</td>\n",
              "      <td>1</td>\n",
              "      <td>0</td>\n",
              "    </tr>\n",
              "    <tr>\n",
              "      <th>3</th>\n",
              "      <td>23</td>\n",
              "      <td>1</td>\n",
              "      <td>4912500</td>\n",
              "      <td>4.0</td>\n",
              "      <td>2625000</td>\n",
              "      <td>15.23</td>\n",
              "      <td>1</td>\n",
              "      <td>2</td>\n",
              "      <td>0</td>\n",
              "      <td>0</td>\n",
              "      <td>0</td>\n",
              "      <td>1</td>\n",
              "      <td>0</td>\n",
              "      <td>0</td>\n",
              "      <td>0</td>\n",
              "      <td>0</td>\n",
              "      <td>0</td>\n",
              "      <td>0</td>\n",
              "      <td>1</td>\n",
              "      <td>0</td>\n",
              "      <td>0</td>\n",
              "      <td>0</td>\n",
              "      <td>1</td>\n",
              "      <td>0</td>\n",
              "      <td>0</td>\n",
              "      <td>0</td>\n",
              "      <td>0</td>\n",
              "      <td>1</td>\n",
              "      <td>0</td>\n",
              "      <td>0</td>\n",
              "      <td>0</td>\n",
              "      <td>0</td>\n",
              "      <td>1</td>\n",
              "      <td>0</td>\n",
              "    </tr>\n",
              "    <tr>\n",
              "      <th>4</th>\n",
              "      <td>24</td>\n",
              "      <td>1</td>\n",
              "      <td>4080000</td>\n",
              "      <td>8.0</td>\n",
              "      <td>2625000</td>\n",
              "      <td>14.27</td>\n",
              "      <td>1</td>\n",
              "      <td>4</td>\n",
              "      <td>0</td>\n",
              "      <td>0</td>\n",
              "      <td>1</td>\n",
              "      <td>0</td>\n",
              "      <td>0</td>\n",
              "      <td>0</td>\n",
              "      <td>0</td>\n",
              "      <td>0</td>\n",
              "      <td>0</td>\n",
              "      <td>0</td>\n",
              "      <td>1</td>\n",
              "      <td>0</td>\n",
              "      <td>0</td>\n",
              "      <td>0</td>\n",
              "      <td>1</td>\n",
              "      <td>0</td>\n",
              "      <td>0</td>\n",
              "      <td>0</td>\n",
              "      <td>0</td>\n",
              "      <td>1</td>\n",
              "      <td>0</td>\n",
              "      <td>0</td>\n",
              "      <td>0</td>\n",
              "      <td>0</td>\n",
              "      <td>0</td>\n",
              "      <td>1</td>\n",
              "    </tr>\n",
              "  </tbody>\n",
              "</table>\n",
              "</div>"
            ],
            "text/plain": [
              "   Age  Car Ownership  ...  Default History_N  Default History_Y\n",
              "0   22              0  ...                  0                  1\n",
              "1   21              1  ...                  1                  0\n",
              "2   25              1  ...                  1                  0\n",
              "3   23              1  ...                  1                  0\n",
              "4   24              1  ...                  0                  1\n",
              "\n",
              "[5 rows x 34 columns]"
            ]
          },
          "metadata": {
            "tags": []
          },
          "execution_count": 140
        }
      ]
    },
    {
      "cell_type": "code",
      "metadata": {
        "id": "2RuCvecvk5ub",
        "colab": {
          "base_uri": "https://localhost:8080/"
        },
        "outputId": "dd557bc0-a0ab-4d51-ff85-19e8b2abde44"
      },
      "source": [
        "#df0.columns\n",
        "df.columns"
      ],
      "execution_count": null,
      "outputs": [
        {
          "output_type": "execute_result",
          "data": {
            "text/plain": [
              "Index(['Age', 'Car Ownership', 'Income', 'Job Experience', 'Loan Balance',\n",
              "       'Interest Rate', 'loan_status', 'Credit History', 'Location_Bangalore',\n",
              "       'Location_Chennai', 'Location_Delhi', 'Location_Hyderabad',\n",
              "       'Location_Kolkata', 'Location_Mumbai', 'Location_Pune',\n",
              "       'Home Type_MORTGAGE', 'Home Type_OTHER', 'Home Type_OWN',\n",
              "       'Home Type_RENT', 'Loan Purpose_DEBTCONSOLIDATION',\n",
              "       'Loan Purpose_EDUCATION', 'Loan Purpose_HOMEIMPROVEMENT',\n",
              "       'Loan Purpose_MEDICAL', 'Loan Purpose_PERSONAL', 'Loan Purpose_VENTURE',\n",
              "       'Loan Grade_A', 'Loan Grade_B', 'Loan Grade_C', 'Loan Grade_D',\n",
              "       'Loan Grade_E', 'Loan Grade_F', 'Loan Grade_G', 'Default History_N',\n",
              "       'Default History_Y'],\n",
              "      dtype='object')"
            ]
          },
          "metadata": {
            "tags": []
          },
          "execution_count": 141
        }
      ]
    },
    {
      "cell_type": "markdown",
      "metadata": {
        "id": "Meyl0QSM8wYC"
      },
      "source": [
        "# Data Preprocessing"
      ]
    },
    {
      "cell_type": "markdown",
      "metadata": {
        "id": "GJ_ZUIoE6D81"
      },
      "source": [
        "### 1) Missing Value Imputation : Technique Used is KNN Imputation"
      ]
    },
    {
      "cell_type": "code",
      "metadata": {
        "colab": {
          "base_uri": "https://localhost:8080/"
        },
        "id": "5yTBhT1t6YHj",
        "outputId": "6334041b-2b6a-4989-c11f-e44b91249eb0"
      },
      "source": [
        "# Number of missing values in each column\n",
        "#Missing data in columns Job Experience and Interest Rate\n",
        "df.isnull().sum()"
      ],
      "execution_count": null,
      "outputs": [
        {
          "output_type": "execute_result",
          "data": {
            "text/plain": [
              "Age                                  0\n",
              "Car Ownership                        0\n",
              "Income                               0\n",
              "Job Experience                     895\n",
              "Loan Balance                         0\n",
              "Interest Rate                     3116\n",
              "loan_status                          0\n",
              "Credit History                       0\n",
              "Location_Bangalore                   0\n",
              "Location_Chennai                     0\n",
              "Location_Delhi                       0\n",
              "Location_Hyderabad                   0\n",
              "Location_Kolkata                     0\n",
              "Location_Mumbai                      0\n",
              "Location_Pune                        0\n",
              "Home Type_MORTGAGE                   0\n",
              "Home Type_OTHER                      0\n",
              "Home Type_OWN                        0\n",
              "Home Type_RENT                       0\n",
              "Loan Purpose_DEBTCONSOLIDATION       0\n",
              "Loan Purpose_EDUCATION               0\n",
              "Loan Purpose_HOMEIMPROVEMENT         0\n",
              "Loan Purpose_MEDICAL                 0\n",
              "Loan Purpose_PERSONAL                0\n",
              "Loan Purpose_VENTURE                 0\n",
              "Loan Grade_A                         0\n",
              "Loan Grade_B                         0\n",
              "Loan Grade_C                         0\n",
              "Loan Grade_D                         0\n",
              "Loan Grade_E                         0\n",
              "Loan Grade_F                         0\n",
              "Loan Grade_G                         0\n",
              "Default History_N                    0\n",
              "Default History_Y                    0\n",
              "dtype: int64"
            ]
          },
          "metadata": {
            "tags": []
          },
          "execution_count": 142
        }
      ]
    },
    {
      "cell_type": "code",
      "metadata": {
        "id": "O2nOSkOE6wb-"
      },
      "source": [
        "#Importing KNNImputer for imputation of missing data\n",
        "from sklearn.impute import KNNImputer"
      ],
      "execution_count": null,
      "outputs": []
    },
    {
      "cell_type": "code",
      "metadata": {
        "id": "cLXKVyoxk5ub"
      },
      "source": [
        "#columns=df0.columns.tolist()\n",
        "columns=df.columns.tolist()"
      ],
      "execution_count": null,
      "outputs": []
    },
    {
      "cell_type": "code",
      "metadata": {
        "id": "ZfO6Fa2f7Wo3"
      },
      "source": [
        "# Missing value imputation using KNN Imputer\n",
        "imputer = KNNImputer(n_neighbors=5)\n",
        "#df0=imputer.fit_transform(df0)\n",
        "df=imputer.fit_transform(df)"
      ],
      "execution_count": null,
      "outputs": []
    },
    {
      "cell_type": "code",
      "metadata": {
        "id": "LEgVA8IH8NSR"
      },
      "source": [
        "# Converting df to dataframe as it has changed to array after KNN Imputation\n",
        "df=pd.DataFrame(df,columns=columns)\n",
        "df2=pd.DataFrame(df,columns=columns)"
      ],
      "execution_count": null,
      "outputs": []
    },
    {
      "cell_type": "code",
      "metadata": {
        "colab": {
          "base_uri": "https://localhost:8080/",
          "height": 243
        },
        "id": "dGQv04cr8TdP",
        "outputId": "cdb124d9-57ed-4ac2-dc06-d2f1846cd5c8"
      },
      "source": [
        "df2.head()"
      ],
      "execution_count": null,
      "outputs": [
        {
          "output_type": "execute_result",
          "data": {
            "text/html": [
              "<div>\n",
              "<style scoped>\n",
              "    .dataframe tbody tr th:only-of-type {\n",
              "        vertical-align: middle;\n",
              "    }\n",
              "\n",
              "    .dataframe tbody tr th {\n",
              "        vertical-align: top;\n",
              "    }\n",
              "\n",
              "    .dataframe thead th {\n",
              "        text-align: right;\n",
              "    }\n",
              "</style>\n",
              "<table border=\"1\" class=\"dataframe\">\n",
              "  <thead>\n",
              "    <tr style=\"text-align: right;\">\n",
              "      <th></th>\n",
              "      <th>Age</th>\n",
              "      <th>Car Ownership</th>\n",
              "      <th>Income</th>\n",
              "      <th>Job Experience</th>\n",
              "      <th>Loan Balance</th>\n",
              "      <th>Interest Rate</th>\n",
              "      <th>loan_status</th>\n",
              "      <th>Credit History</th>\n",
              "      <th>Location_Bangalore</th>\n",
              "      <th>Location_Chennai</th>\n",
              "      <th>Location_Delhi</th>\n",
              "      <th>Location_Hyderabad</th>\n",
              "      <th>Location_Kolkata</th>\n",
              "      <th>Location_Mumbai</th>\n",
              "      <th>Location_Pune</th>\n",
              "      <th>Home Type_MORTGAGE</th>\n",
              "      <th>Home Type_OTHER</th>\n",
              "      <th>Home Type_OWN</th>\n",
              "      <th>Home Type_RENT</th>\n",
              "      <th>Loan Purpose_DEBTCONSOLIDATION</th>\n",
              "      <th>Loan Purpose_EDUCATION</th>\n",
              "      <th>Loan Purpose_HOMEIMPROVEMENT</th>\n",
              "      <th>Loan Purpose_MEDICAL</th>\n",
              "      <th>Loan Purpose_PERSONAL</th>\n",
              "      <th>Loan Purpose_VENTURE</th>\n",
              "      <th>Loan Grade_A</th>\n",
              "      <th>Loan Grade_B</th>\n",
              "      <th>Loan Grade_C</th>\n",
              "      <th>Loan Grade_D</th>\n",
              "      <th>Loan Grade_E</th>\n",
              "      <th>Loan Grade_F</th>\n",
              "      <th>Loan Grade_G</th>\n",
              "      <th>Default History_N</th>\n",
              "      <th>Default History_Y</th>\n",
              "    </tr>\n",
              "  </thead>\n",
              "  <tbody>\n",
              "    <tr>\n",
              "      <th>0</th>\n",
              "      <td>22.0</td>\n",
              "      <td>0.0</td>\n",
              "      <td>4425000.0</td>\n",
              "      <td>123.0</td>\n",
              "      <td>2625000.0</td>\n",
              "      <td>16.02</td>\n",
              "      <td>1.0</td>\n",
              "      <td>3.0</td>\n",
              "      <td>0.0</td>\n",
              "      <td>0.0</td>\n",
              "      <td>0.0</td>\n",
              "      <td>1.0</td>\n",
              "      <td>0.0</td>\n",
              "      <td>0.0</td>\n",
              "      <td>0.0</td>\n",
              "      <td>0.0</td>\n",
              "      <td>0.0</td>\n",
              "      <td>0.0</td>\n",
              "      <td>1.0</td>\n",
              "      <td>0.0</td>\n",
              "      <td>0.0</td>\n",
              "      <td>0.0</td>\n",
              "      <td>0.0</td>\n",
              "      <td>1.0</td>\n",
              "      <td>0.0</td>\n",
              "      <td>0.0</td>\n",
              "      <td>0.0</td>\n",
              "      <td>0.0</td>\n",
              "      <td>1.0</td>\n",
              "      <td>0.0</td>\n",
              "      <td>0.0</td>\n",
              "      <td>0.0</td>\n",
              "      <td>0.0</td>\n",
              "      <td>1.0</td>\n",
              "    </tr>\n",
              "    <tr>\n",
              "      <th>1</th>\n",
              "      <td>21.0</td>\n",
              "      <td>1.0</td>\n",
              "      <td>720000.0</td>\n",
              "      <td>5.0</td>\n",
              "      <td>75000.0</td>\n",
              "      <td>11.14</td>\n",
              "      <td>0.0</td>\n",
              "      <td>2.0</td>\n",
              "      <td>0.0</td>\n",
              "      <td>0.0</td>\n",
              "      <td>0.0</td>\n",
              "      <td>0.0</td>\n",
              "      <td>0.0</td>\n",
              "      <td>0.0</td>\n",
              "      <td>1.0</td>\n",
              "      <td>0.0</td>\n",
              "      <td>0.0</td>\n",
              "      <td>1.0</td>\n",
              "      <td>0.0</td>\n",
              "      <td>0.0</td>\n",
              "      <td>1.0</td>\n",
              "      <td>0.0</td>\n",
              "      <td>0.0</td>\n",
              "      <td>0.0</td>\n",
              "      <td>0.0</td>\n",
              "      <td>0.0</td>\n",
              "      <td>1.0</td>\n",
              "      <td>0.0</td>\n",
              "      <td>0.0</td>\n",
              "      <td>0.0</td>\n",
              "      <td>0.0</td>\n",
              "      <td>0.0</td>\n",
              "      <td>1.0</td>\n",
              "      <td>0.0</td>\n",
              "    </tr>\n",
              "    <tr>\n",
              "      <th>2</th>\n",
              "      <td>25.0</td>\n",
              "      <td>1.0</td>\n",
              "      <td>720000.0</td>\n",
              "      <td>1.0</td>\n",
              "      <td>412500.0</td>\n",
              "      <td>12.87</td>\n",
              "      <td>1.0</td>\n",
              "      <td>3.0</td>\n",
              "      <td>0.0</td>\n",
              "      <td>0.0</td>\n",
              "      <td>0.0</td>\n",
              "      <td>0.0</td>\n",
              "      <td>0.0</td>\n",
              "      <td>1.0</td>\n",
              "      <td>0.0</td>\n",
              "      <td>1.0</td>\n",
              "      <td>0.0</td>\n",
              "      <td>0.0</td>\n",
              "      <td>0.0</td>\n",
              "      <td>0.0</td>\n",
              "      <td>0.0</td>\n",
              "      <td>0.0</td>\n",
              "      <td>1.0</td>\n",
              "      <td>0.0</td>\n",
              "      <td>0.0</td>\n",
              "      <td>0.0</td>\n",
              "      <td>0.0</td>\n",
              "      <td>1.0</td>\n",
              "      <td>0.0</td>\n",
              "      <td>0.0</td>\n",
              "      <td>0.0</td>\n",
              "      <td>0.0</td>\n",
              "      <td>1.0</td>\n",
              "      <td>0.0</td>\n",
              "    </tr>\n",
              "    <tr>\n",
              "      <th>3</th>\n",
              "      <td>23.0</td>\n",
              "      <td>1.0</td>\n",
              "      <td>4912500.0</td>\n",
              "      <td>4.0</td>\n",
              "      <td>2625000.0</td>\n",
              "      <td>15.23</td>\n",
              "      <td>1.0</td>\n",
              "      <td>2.0</td>\n",
              "      <td>0.0</td>\n",
              "      <td>0.0</td>\n",
              "      <td>0.0</td>\n",
              "      <td>1.0</td>\n",
              "      <td>0.0</td>\n",
              "      <td>0.0</td>\n",
              "      <td>0.0</td>\n",
              "      <td>0.0</td>\n",
              "      <td>0.0</td>\n",
              "      <td>0.0</td>\n",
              "      <td>1.0</td>\n",
              "      <td>0.0</td>\n",
              "      <td>0.0</td>\n",
              "      <td>0.0</td>\n",
              "      <td>1.0</td>\n",
              "      <td>0.0</td>\n",
              "      <td>0.0</td>\n",
              "      <td>0.0</td>\n",
              "      <td>0.0</td>\n",
              "      <td>1.0</td>\n",
              "      <td>0.0</td>\n",
              "      <td>0.0</td>\n",
              "      <td>0.0</td>\n",
              "      <td>0.0</td>\n",
              "      <td>1.0</td>\n",
              "      <td>0.0</td>\n",
              "    </tr>\n",
              "    <tr>\n",
              "      <th>4</th>\n",
              "      <td>24.0</td>\n",
              "      <td>1.0</td>\n",
              "      <td>4080000.0</td>\n",
              "      <td>8.0</td>\n",
              "      <td>2625000.0</td>\n",
              "      <td>14.27</td>\n",
              "      <td>1.0</td>\n",
              "      <td>4.0</td>\n",
              "      <td>0.0</td>\n",
              "      <td>0.0</td>\n",
              "      <td>1.0</td>\n",
              "      <td>0.0</td>\n",
              "      <td>0.0</td>\n",
              "      <td>0.0</td>\n",
              "      <td>0.0</td>\n",
              "      <td>0.0</td>\n",
              "      <td>0.0</td>\n",
              "      <td>0.0</td>\n",
              "      <td>1.0</td>\n",
              "      <td>0.0</td>\n",
              "      <td>0.0</td>\n",
              "      <td>0.0</td>\n",
              "      <td>1.0</td>\n",
              "      <td>0.0</td>\n",
              "      <td>0.0</td>\n",
              "      <td>0.0</td>\n",
              "      <td>0.0</td>\n",
              "      <td>1.0</td>\n",
              "      <td>0.0</td>\n",
              "      <td>0.0</td>\n",
              "      <td>0.0</td>\n",
              "      <td>0.0</td>\n",
              "      <td>0.0</td>\n",
              "      <td>1.0</td>\n",
              "    </tr>\n",
              "  </tbody>\n",
              "</table>\n",
              "</div>"
            ],
            "text/plain": [
              "    Age  Car Ownership  ...  Default History_N  Default History_Y\n",
              "0  22.0            0.0  ...                0.0                1.0\n",
              "1  21.0            1.0  ...                1.0                0.0\n",
              "2  25.0            1.0  ...                1.0                0.0\n",
              "3  23.0            1.0  ...                1.0                0.0\n",
              "4  24.0            1.0  ...                0.0                1.0\n",
              "\n",
              "[5 rows x 34 columns]"
            ]
          },
          "metadata": {
            "tags": []
          },
          "execution_count": 148
        }
      ]
    },
    {
      "cell_type": "code",
      "metadata": {
        "colab": {
          "base_uri": "https://localhost:8080/"
        },
        "id": "04lfgKNy8Zfm",
        "outputId": "d87d5c32-b462-4ef4-b80d-c201da69221c"
      },
      "source": [
        "df2.info()\n",
        "\n",
        "# All the missing values have been imputed with KNN imputation leaving no missing values"
      ],
      "execution_count": null,
      "outputs": [
        {
          "output_type": "stream",
          "text": [
            "<class 'pandas.core.frame.DataFrame'>\n",
            "RangeIndex: 32581 entries, 0 to 32580\n",
            "Data columns (total 34 columns):\n",
            " #   Column                          Non-Null Count  Dtype  \n",
            "---  ------                          --------------  -----  \n",
            " 0   Age                             32581 non-null  float64\n",
            " 1   Car Ownership                   32581 non-null  float64\n",
            " 2   Income                          32581 non-null  float64\n",
            " 3   Job Experience                  32581 non-null  float64\n",
            " 4   Loan Balance                    32581 non-null  float64\n",
            " 5   Interest Rate                   32581 non-null  float64\n",
            " 6   loan_status                     32581 non-null  float64\n",
            " 7   Credit History                  32581 non-null  float64\n",
            " 8   Location_Bangalore              32581 non-null  float64\n",
            " 9   Location_Chennai                32581 non-null  float64\n",
            " 10  Location_Delhi                  32581 non-null  float64\n",
            " 11  Location_Hyderabad              32581 non-null  float64\n",
            " 12  Location_Kolkata                32581 non-null  float64\n",
            " 13  Location_Mumbai                 32581 non-null  float64\n",
            " 14  Location_Pune                   32581 non-null  float64\n",
            " 15  Home Type_MORTGAGE              32581 non-null  float64\n",
            " 16  Home Type_OTHER                 32581 non-null  float64\n",
            " 17  Home Type_OWN                   32581 non-null  float64\n",
            " 18  Home Type_RENT                  32581 non-null  float64\n",
            " 19  Loan Purpose_DEBTCONSOLIDATION  32581 non-null  float64\n",
            " 20  Loan Purpose_EDUCATION          32581 non-null  float64\n",
            " 21  Loan Purpose_HOMEIMPROVEMENT    32581 non-null  float64\n",
            " 22  Loan Purpose_MEDICAL            32581 non-null  float64\n",
            " 23  Loan Purpose_PERSONAL           32581 non-null  float64\n",
            " 24  Loan Purpose_VENTURE            32581 non-null  float64\n",
            " 25  Loan Grade_A                    32581 non-null  float64\n",
            " 26  Loan Grade_B                    32581 non-null  float64\n",
            " 27  Loan Grade_C                    32581 non-null  float64\n",
            " 28  Loan Grade_D                    32581 non-null  float64\n",
            " 29  Loan Grade_E                    32581 non-null  float64\n",
            " 30  Loan Grade_F                    32581 non-null  float64\n",
            " 31  Loan Grade_G                    32581 non-null  float64\n",
            " 32  Default History_N               32581 non-null  float64\n",
            " 33  Default History_Y               32581 non-null  float64\n",
            "dtypes: float64(34)\n",
            "memory usage: 8.5 MB\n"
          ],
          "name": "stdout"
        }
      ]
    },
    {
      "cell_type": "markdown",
      "metadata": {
        "id": "wfKpmBUd9U4h"
      },
      "source": [
        "### 2) Outlier Analyisis\n"
      ]
    },
    {
      "cell_type": "code",
      "metadata": {
        "colab": {
          "base_uri": "https://localhost:8080/",
          "height": 334
        },
        "id": "H1kTqdaC9b2u",
        "outputId": "373e6bd8-9cc5-4999-d7ca-988015b566b1"
      },
      "source": [
        "#Checking the distribution of column Age. The data is severely right skewed\n",
        "plt.figure(1)\n",
        "plt.subplot(121)\n",
        "sns.distplot(df2['Age']);\n",
        "\n",
        "plt.subplot(122)\n",
        "df2['Age'].plot.box(figsize=(16,5))\n",
        "\n",
        "plt.show()"
      ],
      "execution_count": null,
      "outputs": [
        {
          "output_type": "display_data",
          "data": {
            "image/png": "[encoded data removed]",
            "text/plain": [
              "<Figure size 1152x360 with 2 Axes>"
            ]
          },
          "metadata": {
            "tags": [],
            "needs_background": "light"
          }
        }
      ]
    },
    {
      "cell_type": "code",
      "metadata": {
        "colab": {
          "base_uri": "https://localhost:8080/",
          "height": 345
        },
        "id": "_jf9yYW__tzZ",
        "outputId": "af239d92-c285-4efe-89af-8ef07d5013cf"
      },
      "source": [
        "#Checking the distribution of column Income. The data is severely right skewed\n",
        "plt.figure(1)\n",
        "plt.subplot(121)\n",
        "sns.distplot(df2['Income']);\n",
        "\n",
        "plt.subplot(122)\n",
        "df2['Income'].plot.box(figsize=(16,5))\n",
        "\n",
        "plt.show()"
      ],
      "execution_count": null,
      "outputs": [
        {
          "output_type": "display_data",
          "data": {
            "image/png": "[encoded data removed]",
            "text/plain": [
              "<Figure size 1152x360 with 2 Axes>"
            ]
          },
          "metadata": {
            "tags": [],
            "needs_background": "light"
          }
        }
      ]
    },
    {
      "cell_type": "code",
      "metadata": {
        "colab": {
          "base_uri": "https://localhost:8080/",
          "height": 334
        },
        "id": "NYjbxxTl_7Pi",
        "outputId": "0b908ade-13c0-4d77-a2ee-d2d428b3f308"
      },
      "source": [
        "#Checking the distribution of column Job Experience. The data is severely right skewed\n",
        "plt.figure(1)\n",
        "plt.subplot(121)\n",
        "sns.distplot(df2['Job Experience']);\n",
        "\n",
        "plt.subplot(122)\n",
        "df2['Job Experience'].plot.box(figsize=(16,5))\n",
        "\n",
        "plt.show()"
      ],
      "execution_count": null,
      "outputs": [
        {
          "output_type": "display_data",
          "data": {
            "image/png": "[encoded data removed]",
            "text/plain": [
              "<Figure size 1152x360 with 2 Axes>"
            ]
          },
          "metadata": {
            "tags": [],
            "needs_background": "light"
          }
        }
      ]
    },
    {
      "cell_type": "code",
      "metadata": {
        "colab": {
          "base_uri": "https://localhost:8080/",
          "height": 345
        },
        "id": "VKjPajiIAIu1",
        "outputId": "c1608863-903a-47b2-b5cc-2bd1940746af"
      },
      "source": [
        "#Checking the distribution of Loan Balance\n",
        "plt.figure(1)\n",
        "plt.subplot(121)\n",
        "sns.distplot(df2['Loan Balance']);\n",
        "\n",
        "plt.subplot(122)\n",
        "df2['Loan Balance'].plot.box(figsize=(16,5))\n",
        "\n",
        "plt.show()"
      ],
      "execution_count": null,
      "outputs": [
        {
          "output_type": "display_data",
          "data": {
            "image/png": "[encoded data removed]",
            "text/plain": [
              "<Figure size 1152x360 with 2 Axes>"
            ]
          },
          "metadata": {
            "tags": [],
            "needs_background": "light"
          }
        }
      ]
    },
    {
      "cell_type": "markdown",
      "metadata": {
        "id": "E6MUy5v6k5uc"
      },
      "source": [
        "### 3) Scaling of features "
      ]
    },
    {
      "cell_type": "code",
      "metadata": {
        "id": "NsTadbzfk5uc"
      },
      "source": [
        "# Creating two data frames for predictors and target variables\n",
        "\n",
        "X = df2.drop('loan_status',1)  ## X consitsts predictors   loan_status \n",
        "y = df2.loan_status            ##y consists target variable\n",
        "#X=pd.get_dummies(df2)"
      ],
      "execution_count": null,
      "outputs": []
    },
    {
      "cell_type": "code",
      "metadata": {
        "id": "0UytfMT6AYlf"
      },
      "source": [
        "#Scaling the predictors using Standard Scaler\n",
        "\n",
        "from sklearn.preprocessing import StandardScaler\n",
        "scaler = StandardScaler()\n",
        "scaler.fit(X)\n",
        "\n",
        "\n",
        "scaled_features = scaler.transform(X)\n",
        "\n",
        "scaled_features\n",
        "\n",
        "df2= pd.DataFrame(scaled_features,columns=X.columns)"
      ],
      "execution_count": null,
      "outputs": []
    },
    {
      "cell_type": "code",
      "metadata": {
        "colab": {
          "base_uri": "https://localhost:8080/"
        },
        "id": "lWejuI0Cu6YL",
        "outputId": "e0a522d6-101e-4cca-8a6f-de29442aec62"
      },
      "source": [
        "print(df2.head())\n",
        "print(df2.columns)"
      ],
      "execution_count": null,
      "outputs": [
        {
          "output_type": "stream",
          "text": [
            "        Age  Car Ownership  ...  Default History_N  Default History_Y\n",
            "0 -0.903374      -1.001198  ...          -2.161294           2.161294\n",
            "1 -1.060904       0.998804  ...           0.462686          -0.462686\n",
            "2 -0.430783       0.998804  ...           0.462686          -0.462686\n",
            "3 -0.745843       0.998804  ...           0.462686          -0.462686\n",
            "4 -0.588313       0.998804  ...          -2.161294           2.161294\n",
            "\n",
            "[5 rows x 33 columns]\n",
            "Index(['Age', 'Car Ownership', 'Income', 'Job Experience', 'Loan Balance',\n",
            "       'Interest Rate', 'Credit History', 'Location_Bangalore',\n",
            "       'Location_Chennai', 'Location_Delhi', 'Location_Hyderabad',\n",
            "       'Location_Kolkata', 'Location_Mumbai', 'Location_Pune',\n",
            "       'Home Type_MORTGAGE', 'Home Type_OTHER', 'Home Type_OWN',\n",
            "       'Home Type_RENT', 'Loan Purpose_DEBTCONSOLIDATION',\n",
            "       'Loan Purpose_EDUCATION', 'Loan Purpose_HOMEIMPROVEMENT',\n",
            "       'Loan Purpose_MEDICAL', 'Loan Purpose_PERSONAL', 'Loan Purpose_VENTURE',\n",
            "       'Loan Grade_A', 'Loan Grade_B', 'Loan Grade_C', 'Loan Grade_D',\n",
            "       'Loan Grade_E', 'Loan Grade_F', 'Loan Grade_G', 'Default History_N',\n",
            "       'Default History_Y'],\n",
            "      dtype='object')\n"
          ],
          "name": "stdout"
        }
      ]
    },
    {
      "cell_type": "code",
      "metadata": {
        "colab": {
          "base_uri": "https://localhost:8080/"
        },
        "id": "jKdiT3t28C8U",
        "outputId": "934a96aa-b027-411c-d10f-b95b73d4ca50"
      },
      "source": [
        "df2.columns"
      ],
      "execution_count": null,
      "outputs": [
        {
          "output_type": "execute_result",
          "data": {
            "text/plain": [
              "Index(['Age', 'Car Ownership', 'Income', 'Job Experience', 'Loan Balance',\n",
              "       'Interest Rate', 'Credit History', 'Location_Bangalore',\n",
              "       'Location_Chennai', 'Location_Delhi', 'Location_Hyderabad',\n",
              "       'Location_Kolkata', 'Location_Mumbai', 'Location_Pune',\n",
              "       'Home Type_MORTGAGE', 'Home Type_OTHER', 'Home Type_OWN',\n",
              "       'Home Type_RENT', 'Loan Purpose_DEBTCONSOLIDATION',\n",
              "       'Loan Purpose_EDUCATION', 'Loan Purpose_HOMEIMPROVEMENT',\n",
              "       'Loan Purpose_MEDICAL', 'Loan Purpose_PERSONAL', 'Loan Purpose_VENTURE',\n",
              "       'Loan Grade_A', 'Loan Grade_B', 'Loan Grade_C', 'Loan Grade_D',\n",
              "       'Loan Grade_E', 'Loan Grade_F', 'Loan Grade_G', 'Default History_N',\n",
              "       'Default History_Y'],\n",
              "      dtype='object')"
            ]
          },
          "metadata": {
            "tags": []
          },
          "execution_count": 157
        }
      ]
    },
    {
      "cell_type": "code",
      "metadata": {
        "colab": {
          "base_uri": "https://localhost:8080/"
        },
        "id": "Fxp4c8GE8MJc",
        "outputId": "d9fe4e8f-b66c-4289-bb2e-ef916a005056"
      },
      "source": [
        "df2.shape"
      ],
      "execution_count": null,
      "outputs": [
        {
          "output_type": "execute_result",
          "data": {
            "text/plain": [
              "(32581, 33)"
            ]
          },
          "metadata": {
            "tags": []
          },
          "execution_count": 158
        }
      ]
    },
    {
      "cell_type": "markdown",
      "metadata": {
        "id": "JS3Kh1VNc0ww"
      },
      "source": [
        ""
      ]
    },
    {
      "cell_type": "markdown",
      "metadata": {
        "id": "9GiWqFJidbs1"
      },
      "source": [
        "# Predicting Probability of Default (PD) - Model Selection and Fine Tuning"
      ]
    },
    {
      "cell_type": "markdown",
      "metadata": {
        "id": "rn-GBXWck5ud"
      },
      "source": [
        "####Train Test Spilt"
      ]
    },
    {
      "cell_type": "code",
      "metadata": {
        "id": "TAkOoUGxk5ud"
      },
      "source": [
        "##80/20 train  set and validation set spilt is done\n",
        "##for uniform distribution of target variable in train set  and validation set  stratify=y is used##\n",
        "# Train Test Split of Scaled Variables\n",
        "x1_train, x1_cv, y1_train, y1_cv = train_test_split(df2,y,\n",
        "                                                    test_size=0.20,random_state=101,stratify=y)"
      ],
      "execution_count": null,
      "outputs": []
    },
    {
      "cell_type": "markdown",
      "metadata": {
        "id": "j2FKTT2ufPbc"
      },
      "source": [
        "####Over Sampling to manage unbalanced Target Class using SMOTE ##"
      ]
    },
    {
      "cell_type": "code",
      "metadata": {
        "colab": {
          "base_uri": "https://localhost:8080/"
        },
        "id": "qpgxHw241QyY",
        "outputId": "7b9c52bb-c44c-4715-c788-c9253fa28464"
      },
      "source": [
        "##Here Traget variable is Intially  Imbalance   (21% -1(Yes) Vs 79%-0(No) )\n",
        "##Over Sampling of \"No\" target clase used to manage imbalance\n",
        "##After Over Sampling of \"Yes\" class is balance   (50% -1(Yes) Vs 50%-0(No))\n",
        "##Over Sampled data is used for further Analysis\n",
        "\n",
        "print(\"Before OverSampling, counts of label '1': {}\".format(sum(y1_train == 1))) \n",
        "print(\"Before OverSampling, counts of label '0': {} \\n\".format(sum(y1_train == 0))) \n",
        "  \n",
        "# import SMOTE module from imblearn library \n",
        "# pip install imblearn (if you don't have imblearn in your system) \n",
        "from imblearn.over_sampling import SMOTE \n",
        "sm = SMOTE(random_state = 2) \n",
        "x1_train, y1_train = sm.fit_sample(x1_train, y1_train.ravel()) \n",
        "  \n",
        "print('After OverSampling, the shape of train_X: {}'.format(x1_train.shape)) \n",
        "print('After OverSampling, the shape of train_y: {} \\n'.format(y1_train.shape)) \n",
        "  \n",
        "print(\"After OverSampling, counts of label '1': {}\".format(sum(y1_train == 1))) \n",
        "print(\"After OverSampling, counts of label '0': {}\".format(sum(y1_train == 0))) "
      ],
      "execution_count": null,
      "outputs": [
        {
          "output_type": "stream",
          "text": [
            "Before OverSampling, counts of label '1': 5686\n",
            "Before OverSampling, counts of label '0': 20378 \n",
            "\n",
            "After OverSampling, the shape of train_X: (40756, 33)\n",
            "After OverSampling, the shape of train_y: (40756,) \n",
            "\n",
            "After OverSampling, counts of label '1': 20378\n",
            "After OverSampling, counts of label '0': 20378\n"
          ],
          "name": "stdout"
        }
      ]
    },
    {
      "cell_type": "markdown",
      "metadata": {
        "id": "oSSkgniSfcpv"
      },
      "source": [
        "### Model Creation and Selection"
      ]
    },
    {
      "cell_type": "markdown",
      "metadata": {
        "id": "-jQHyYulfop_"
      },
      "source": [
        "#### 1) Logistic Regression"
      ]
    },
    {
      "cell_type": "code",
      "metadata": {
        "id": "Hd3DtZLe1kqo",
        "colab": {
          "base_uri": "https://localhost:8080/"
        },
        "outputId": "4427ba43-08e5-4a3f-8898-9b3f6acddab9"
      },
      "source": [
        "#Creating a logistic regresion model with default threshold cutoff of 0.50\n",
        "## 78 % accuracy achieved on TEST DATA\n",
        "\n",
        "from sklearn.metrics import accuracy_score\n",
        "\n",
        "lr1 = LogisticRegression(random_state=0)\n",
        "lr1.fit(x1_train, y1_train)\n",
        "pred_cv1 = lr1.predict(x1_cv)\n",
        "pred_cv_prob1 = lr1.predict_proba(x1_cv)\n",
        "accuracy_score(y1_cv,pred_cv1)\n",
        "print(pred_cv1)\n",
        "print(pred_cv_prob1[:,1])\n",
        "from sklearn.metrics import confusion_matrix \n",
        "cm1 = confusion_matrix(y1_cv,pred_cv1) \n",
        "print(cm1)\n",
        "print(classification_report(y1_cv,pred_cv1))"
      ],
      "execution_count": null,
      "outputs": [
        {
          "output_type": "stream",
          "text": [
            "[0. 1. 1. ... 1. 0. 0.]\n",
            "[0.35629906 0.86782549 0.60220513 ... 0.7273014  0.1315996  0.15784744]\n",
            "[[3957 1138]\n",
            " [ 298 1124]]\n",
            "              precision    recall  f1-score   support\n",
            "\n",
            "         0.0       0.93      0.78      0.85      5095\n",
            "         1.0       0.50      0.79      0.61      1422\n",
            "\n",
            "    accuracy                           0.78      6517\n",
            "   macro avg       0.71      0.78      0.73      6517\n",
            "weighted avg       0.84      0.78      0.79      6517\n",
            "\n"
          ],
          "name": "stdout"
        }
      ]
    },
    {
      "cell_type": "code",
      "metadata": {
        "id": "CB8TUC8P2ldr",
        "colab": {
          "base_uri": "https://localhost:8080/",
          "height": 313
        },
        "outputId": "70c90b0f-76cf-481e-bc78-dcc51c7e55cf"
      },
      "source": [
        "#Creating the Precision-Recall curve to find out the optimal value of threshold. Graph shows optimal value at around 0.60\n",
        "\n",
        "from sklearn.metrics import precision_recall_curve\n",
        "precision, recall, thresholds = precision_recall_curve(y1_cv, pred_cv_prob1[:,1]) \n",
        "   #retrieve probability of being 1(in second column of probs_y)\n",
        "pr_auc = metrics.auc(recall, precision)\n",
        "\n",
        "plt.title(\"Precision-Recall vs Threshold Chart\")\n",
        "plt.plot(thresholds, precision[: -1], \"b--\", label=\"Precision\")\n",
        "plt.plot(thresholds, recall[: -1], \"r--\", label=\"Recall\")\n",
        "plt.ylabel(\"Precision, Recall\")\n",
        "plt.xlabel(\"Threshold\")\n",
        "plt.legend(loc=\"lower left\")\n",
        "plt.ylim([0,1])"
      ],
      "execution_count": null,
      "outputs": [
        {
          "output_type": "execute_result",
          "data": {
            "text/plain": [
              "(0.0, 1.0)"
            ]
          },
          "metadata": {
            "tags": []
          },
          "execution_count": 162
        },
        {
          "output_type": "display_data",
          "data": {
            "image/png": "[encoded data removed]",
            "text/plain": [
              "<Figure size 432x288 with 1 Axes>"
            ]
          },
          "metadata": {
            "tags": [],
            "needs_background": "light"
          }
        }
      ]
    },
    {
      "cell_type": "code",
      "metadata": {
        "id": "ESH8jZQHPECt",
        "colab": {
          "base_uri": "https://localhost:8080/"
        },
        "outputId": "fcd2b169-08c3-4d15-848e-d8e259ad0886"
      },
      "source": [
        "# logistic reg prediction on train data\n",
        "cm1_train = confusion_matrix(y1_train,lr1.predict(x1_train))\n",
        "print(cm1_train)\n",
        "print(classification_report(y1_train,lr1.predict(x1_train)))"
      ],
      "execution_count": null,
      "outputs": [
        {
          "output_type": "stream",
          "text": [
            "[[16053  4325]\n",
            " [ 4032 16346]]\n",
            "              precision    recall  f1-score   support\n",
            "\n",
            "         0.0       0.80      0.79      0.79     20378\n",
            "         1.0       0.79      0.80      0.80     20378\n",
            "\n",
            "    accuracy                           0.79     40756\n",
            "   macro avg       0.80      0.79      0.79     40756\n",
            "weighted avg       0.80      0.79      0.79     40756\n",
            "\n"
          ],
          "name": "stdout"
        }
      ]
    },
    {
      "cell_type": "code",
      "metadata": {
        "id": "plR9j5HH3Epz",
        "colab": {
          "base_uri": "https://localhost:8080/"
        },
        "outputId": "29bdb956-416a-4c0d-c2c0-8c6041f61342"
      },
      "source": [
        "## changing threshold cutoff to 55%\n",
        "##Achieved 81% on test data. However, the recall and precision dropped significantly.\n",
        "\n",
        "from sklearn.metrics import accuracy_score\n",
        "from sklearn.preprocessing import binarize\n",
        "lr2 = LogisticRegression(random_state=0)\n",
        "lr2.fit(x1_train, y1_train)\n",
        "#pred_cv1 = model1.predict(x1_cv)\n",
        "pred_cv_prob2 = lr2.predict_proba(x1_cv)[:,1]\n",
        "pred_cv_prob055 = binarize([pred_cv_prob2], 0.55)\n",
        "#print(pred_cv_prob065[0])\n",
        "accuracy_score(y1_cv,pred_cv_prob055[0])\n",
        "print(pred_cv_prob055[0])\n",
        "#print(pred_cv_prob2[:,1])\n",
        "from sklearn.metrics import confusion_matrix \n",
        "cm2 = confusion_matrix(y1_cv,pred_cv_prob055[0]) \n",
        "print(cm2)\n",
        "print(classification_report(y1_cv,pred_cv_prob055[0]))"
      ],
      "execution_count": null,
      "outputs": [
        {
          "output_type": "stream",
          "text": [
            "[0. 1. 1. ... 1. 0. 0.]\n",
            "[[4208  887]\n",
            " [ 366 1056]]\n",
            "              precision    recall  f1-score   support\n",
            "\n",
            "         0.0       0.92      0.83      0.87      5095\n",
            "         1.0       0.54      0.74      0.63      1422\n",
            "\n",
            "    accuracy                           0.81      6517\n",
            "   macro avg       0.73      0.78      0.75      6517\n",
            "weighted avg       0.84      0.81      0.82      6517\n",
            "\n"
          ],
          "name": "stdout"
        }
      ]
    },
    {
      "cell_type": "code",
      "metadata": {
        "colab": {
          "base_uri": "https://localhost:8080/"
        },
        "id": "51dvdZ2B9JOX",
        "outputId": "2dcdab21-2608-47c9-d6b0-7780a226a55e"
      },
      "source": [
        "# roc auc score for 0.55 cutoff\n",
        "from sklearn.metrics import roc_auc_score\n",
        "print(roc_auc_score(y1_cv,pred_cv_prob055[0]))"
      ],
      "execution_count": null,
      "outputs": [
        {
          "output_type": "stream",
          "text": [
            "0.7842618932269991\n"
          ],
          "name": "stdout"
        }
      ]
    },
    {
      "cell_type": "code",
      "metadata": {
        "colab": {
          "base_uri": "https://localhost:8080/"
        },
        "id": "QTy9gfBF9no1",
        "outputId": "e0c38a1e-f93e-4273-a8d3-f82db2d7d255"
      },
      "source": [
        "# roc auc score for 0.5 cutoff\n",
        "print(roc_auc_score(y1_cv,pred_cv_prob1[:,1]))"
      ],
      "execution_count": null,
      "outputs": [
        {
          "output_type": "stream",
          "text": [
            "0.8494447964069459\n"
          ],
          "name": "stdout"
        }
      ]
    },
    {
      "cell_type": "code",
      "metadata": {
        "id": "2HH_ws7S-j47"
      },
      "source": [
        "# Importing necessary libraries\n",
        "from sklearn.metrics import roc_curve\n",
        "from sklearn.metrics import roc_auc_score\n",
        "from sklearn.metrics import auc\n",
        "from sklearn.metrics import precision_recall_curve\n",
        "from sklearn.metrics import precision_score\n",
        "from sklearn.metrics import recall_score\n",
        "from sklearn.metrics import f1_score\n",
        "from sklearn.metrics import average_precision_score\n",
        "from sklearn.metrics import accuracy_score\n",
        "from inspect import signature\n",
        "from sklearn import metrics"
      ],
      "execution_count": null,
      "outputs": []
    },
    {
      "cell_type": "code",
      "metadata": {
        "id": "uPQtgX_M-mLR",
        "colab": {
          "base_uri": "https://localhost:8080/",
          "height": 295
        },
        "outputId": "8d3cbfc2-1d15-4b56-eabb-dbf5f95df6e4"
      },
      "source": [
        "# ROC Curve for 0.50 threshold\n",
        "fpr,tpr,thresholds = roc_curve(y1_cv,pred_cv_prob2)\n",
        "roc_auc = auc(fpr, tpr)\n",
        "\n",
        "\n",
        "plt.title('Receiver Operating Characteristic')\n",
        "plt.plot(fpr, tpr, 'y', label = 'AUC = %0.2f' % roc_auc)\n",
        "plt.legend(loc = 'lower right')\n",
        "plt.plot([0, 1], [0, 1],'r--')\n",
        "plt.xlim([0, 1])\n",
        "plt.ylim([0, 1])\n",
        "plt.ylabel('True Positive Rate')\n",
        "plt.xlabel('False Positive Rate')\n",
        "plt.show()"
      ],
      "execution_count": null,
      "outputs": [
        {
          "output_type": "display_data",
          "data": {
            "image/png": "[encoded data removed]",
            "text/plain": [
              "<Figure size 432x288 with 1 Axes>"
            ]
          },
          "metadata": {
            "tags": [],
            "needs_background": "light"
          }
        }
      ]
    },
    {
      "cell_type": "markdown",
      "metadata": {
        "id": "oywJwpL_iJrZ"
      },
      "source": [
        "#### 2) Decision Trees"
      ]
    },
    {
      "cell_type": "code",
      "metadata": {
        "id": "Mf-3tRMV_0Fn",
        "colab": {
          "base_uri": "https://localhost:8080/"
        },
        "outputId": "9ec962af-bc84-4681-ac6c-db9997783800"
      },
      "source": [
        "##decision tree\n",
        "## Accuracy of 0.85 achieved on test data\n",
        "from sklearn.tree import DecisionTreeClassifier\n",
        "\n",
        "dtree = DecisionTreeClassifier(random_state=0)\n",
        "dtree.fit(x1_train, y1_train)\n",
        "\n",
        "predictions = dtree.predict(x1_cv)\n",
        "\n",
        "from sklearn.metrics import classification_report,confusion_matrix\n",
        "\n",
        "print(classification_report(y1_cv,predictions))\n",
        "\n",
        "print(confusion_matrix(y1_cv,predictions))"
      ],
      "execution_count": null,
      "outputs": [
        {
          "output_type": "stream",
          "text": [
            "              precision    recall  f1-score   support\n",
            "\n",
            "         0.0       0.93      0.87      0.90      5095\n",
            "         1.0       0.62      0.76      0.69      1422\n",
            "\n",
            "    accuracy                           0.85      6517\n",
            "   macro avg       0.78      0.82      0.79      6517\n",
            "weighted avg       0.86      0.85      0.85      6517\n",
            "\n",
            "[[4443  652]\n",
            " [ 337 1085]]\n"
          ],
          "name": "stdout"
        }
      ]
    },
    {
      "cell_type": "markdown",
      "metadata": {
        "id": "J9RNANEkif-Z"
      },
      "source": [
        "#### 3) Random Forest"
      ]
    },
    {
      "cell_type": "code",
      "metadata": {
        "id": "BNiKARiEAp5b",
        "colab": {
          "base_uri": "https://localhost:8080/"
        },
        "outputId": "e451d2f9-6d2f-4a76-8685-0feef57bd0c9"
      },
      "source": [
        "# random forest\n",
        "#Achieved accuracy of 91% on test data\n",
        "from sklearn.ensemble import RandomForestClassifier\n",
        "rf_clf = RandomForestClassifier(random_state=0)\n",
        "rf_clf.fit(x1_train, y1_train)\n",
        "y1_pred=rf_clf.predict(x1_cv)\n",
        "confusion_matrix(y1_cv, rf_clf.predict(x1_cv))\n",
        "print(confusion_matrix(y1_cv,y1_pred))\n",
        "print(classification_report(y1_cv,y1_pred))"
      ],
      "execution_count": null,
      "outputs": [
        {
          "output_type": "stream",
          "text": [
            "[[4889  206]\n",
            " [ 383 1039]]\n",
            "              precision    recall  f1-score   support\n",
            "\n",
            "         0.0       0.93      0.96      0.94      5095\n",
            "         1.0       0.83      0.73      0.78      1422\n",
            "\n",
            "    accuracy                           0.91      6517\n",
            "   macro avg       0.88      0.85      0.86      6517\n",
            "weighted avg       0.91      0.91      0.91      6517\n",
            "\n"
          ],
          "name": "stdout"
        }
      ]
    },
    {
      "cell_type": "code",
      "metadata": {
        "id": "d_i039LzLp57",
        "colab": {
          "base_uri": "https://localhost:8080/"
        },
        "outputId": "fab5d1a3-8d02-49f0-b8ce-fcdcb220c2d7"
      },
      "source": [
        "# random forest train data prediction\n",
        "#Achieving accuracy of 100% on train data. Case of extreme overfitting\n",
        "y1_pred_train=rf_clf.predict(x1_train)\n",
        "confusion_matrix(y1_train, rf_clf.predict(x1_train))\n",
        "print(confusion_matrix(y1_train,y1_pred_train))\n",
        "print(classification_report(y1_train,y1_pred_train))"
      ],
      "execution_count": null,
      "outputs": [
        {
          "output_type": "stream",
          "text": [
            "[[20378     0]\n",
            " [    0 20378]]\n",
            "              precision    recall  f1-score   support\n",
            "\n",
            "         0.0       1.00      1.00      1.00     20378\n",
            "         1.0       1.00      1.00      1.00     20378\n",
            "\n",
            "    accuracy                           1.00     40756\n",
            "   macro avg       1.00      1.00      1.00     40756\n",
            "weighted avg       1.00      1.00      1.00     40756\n",
            "\n"
          ],
          "name": "stdout"
        }
      ]
    },
    {
      "cell_type": "code",
      "metadata": {
        "id": "HF3kCRZ0BcvO",
        "colab": {
          "base_uri": "https://localhost:8080/",
          "height": 295
        },
        "outputId": "7700639b-5a67-4087-ab92-37867db0b64e"
      },
      "source": [
        "# evaluate predictions\n",
        "fpr,tpr,thresholds = roc_curve(y1_cv,rf_clf.predict_proba(x1_cv)[:,1])\n",
        "roc_auc = auc(fpr, tpr)\n",
        "\n",
        "\n",
        "plt.title('Receiver Operating Characteristic')\n",
        "plt.plot(fpr, tpr, 'y', label = 'AUC = %0.2f' % roc_auc)\n",
        "plt.legend(loc = 'lower right')\n",
        "plt.plot([0, 1], [0, 1],'r--')\n",
        "plt.xlim([0, 1])\n",
        "plt.ylim([0, 1])\n",
        "plt.ylabel('True Positive Rate')\n",
        "plt.xlabel('False Positive Rate')\n",
        "plt.show()"
      ],
      "execution_count": null,
      "outputs": [
        {
          "output_type": "display_data",
          "data": {
            "image/png": "[encoded data removed]",
            "text/plain": [
              "<Figure size 432x288 with 1 Axes>"
            ]
          },
          "metadata": {
            "tags": [],
            "needs_background": "light"
          }
        }
      ]
    },
    {
      "cell_type": "code",
      "metadata": {
        "id": "weyD088CCXQp"
      },
      "source": [
        "x1_train"
      ],
      "execution_count": null,
      "outputs": []
    },
    {
      "cell_type": "code",
      "metadata": {
        "id": "fXaaY_9eB6yp",
        "colab": {
          "base_uri": "https://localhost:8080/",
          "height": 1000
        },
        "outputId": "c46393b1-1bc4-4c13-91e2-f3aefa62a644"
      },
      "source": [
        "#Feature Importance is derived\n",
        "\n",
        "##Top 5 important feature -Income,Interest Rate,Loan Balance ,Job Experience,Home Type_RENT ##\n",
        "\n",
        "x1_train_df= pd.DataFrame(x1_train,columns=X.columns)\n",
        "importances = pd.DataFrame({'feature':x1_train_df.columns,'importance':np.round(rf_clf.feature_importances_,3)})\n",
        "importances = importances.sort_values('importance',ascending=False).set_index('feature')\n",
        "print(importances)\n",
        "importances.plot.bar()"
      ],
      "execution_count": null,
      "outputs": [
        {
          "output_type": "stream",
          "text": [
            "                                importance\n",
            "feature                                   \n",
            "Income                               0.188\n",
            "Interest Rate                        0.115\n",
            "Loan Balance                         0.109\n",
            "Job Experience                       0.069\n",
            "Home Type_RENT                       0.059\n",
            "Credit History                       0.058\n",
            "Age                                  0.057\n",
            "Loan Grade_D                         0.047\n",
            "Home Type_MORTGAGE                   0.041\n",
            "Car Ownership                        0.030\n",
            "Loan Grade_A                         0.023\n",
            "Loan Grade_C                         0.018\n",
            "Home Type_OWN                        0.017\n",
            "Loan Purpose_MEDICAL                 0.015\n",
            "Loan Purpose_DEBTCONSOLIDATION       0.014\n",
            "Loan Purpose_HOMEIMPROVEMENT         0.014\n",
            "Loan Purpose_VENTURE                 0.012\n",
            "Loan Grade_B                         0.012\n",
            "Loan Purpose_EDUCATION               0.012\n",
            "Loan Grade_E                         0.011\n",
            "Loan Purpose_PERSONAL                0.009\n",
            "Default History_N                    0.009\n",
            "Default History_Y                    0.008\n",
            "Location_Mumbai                      0.007\n",
            "Location_Delhi                       0.007\n",
            "Location_Hyderabad                   0.007\n",
            "Location_Chennai                     0.007\n",
            "Location_Bangalore                   0.007\n",
            "Location_Kolkata                     0.007\n",
            "Location_Pune                        0.007\n",
            "Loan Grade_F                         0.003\n",
            "Loan Grade_G                         0.002\n",
            "Home Type_OTHER                      0.000\n"
          ],
          "name": "stdout"
        },
        {
          "output_type": "execute_result",
          "data": {
            "text/plain": [
              "<matplotlib.axes._subplots.AxesSubplot at 0x7f20583dfb00>"
            ]
          },
          "metadata": {
            "tags": []
          },
          "execution_count": 173
        },
        {
          "output_type": "display_data",
          "data": {
            "image/png": "[encoded data removed]",
            "text/plain": [
              "<Figure size 432x288 with 1 Axes>"
            ]
          },
          "metadata": {
            "tags": [],
            "needs_background": "light"
          }
        }
      ]
    },
    {
      "cell_type": "code",
      "metadata": {
        "colab": {
          "base_uri": "https://localhost:8080/"
        },
        "id": "8jLXQ3Tq-fy5",
        "outputId": "b606a89b-f640-4e56-8740-6575c1476596"
      },
      "source": [
        "df2.shape"
      ],
      "execution_count": null,
      "outputs": [
        {
          "output_type": "execute_result",
          "data": {
            "text/plain": [
              "(32581, 33)"
            ]
          },
          "metadata": {
            "tags": []
          },
          "execution_count": 91
        }
      ]
    },
    {
      "cell_type": "markdown",
      "metadata": {
        "id": "SgTKzHKfjPaU"
      },
      "source": [
        "#### Final Model Selection - Logistic Regression"
      ]
    },
    {
      "cell_type": "markdown",
      "metadata": {
        "id": "EgL8C6Eou033"
      },
      "source": [
        "The Logistic regression model with a threshold of 0.50 was chosen as the best model. The reasons are mentioned below:\n",
        "\n",
        "1. The accuracy, recall and precision were in the same range for both the test and train data.\n",
        "2. Accuracy on test data = 0.79, AUC = 0.85, recall = 0.78, precision = 0.71\n",
        "3. Random Forest model could have been chosen, but was dropped becuase of extreme case of overfitting "
      ]
    },
    {
      "cell_type": "code",
      "metadata": {
        "id": "A6MFvWf99CP9"
      },
      "source": [
        "prediction_D = lr1.predict(df2)\n",
        "prediction_D_PROBA = lr1.predict_proba(df2)"
      ],
      "execution_count": null,
      "outputs": []
    },
    {
      "cell_type": "code",
      "metadata": {
        "colab": {
          "base_uri": "https://localhost:8080/",
          "height": 206
        },
        "id": "hwozZt8mUrms",
        "outputId": "5c0c6127-4647-4e6b-dd7e-cdbb17c602cd"
      },
      "source": [
        "# going with logistic regression predicted values and default cutoff 0.5\n",
        "#Creating a new data frame with the predicted probability of defaults\\\n",
        "final=pd.concat((df0['Cust_Id'],pd.Series(prediction_D_PROBA[:,1]),pd.Series(prediction_D)),axis=1)\n",
        "final.columns= ['Cust_Id','prob_of_default','binary_prob_of_default']\n",
        "final.tail()"
      ],
      "execution_count": null,
      "outputs": [
        {
          "output_type": "execute_result",
          "data": {
            "text/html": [
              "<div>\n",
              "<style scoped>\n",
              "    .dataframe tbody tr th:only-of-type {\n",
              "        vertical-align: middle;\n",
              "    }\n",
              "\n",
              "    .dataframe tbody tr th {\n",
              "        vertical-align: top;\n",
              "    }\n",
              "\n",
              "    .dataframe thead th {\n",
              "        text-align: right;\n",
              "    }\n",
              "</style>\n",
              "<table border=\"1\" class=\"dataframe\">\n",
              "  <thead>\n",
              "    <tr style=\"text-align: right;\">\n",
              "      <th></th>\n",
              "      <th>Cust_Id</th>\n",
              "      <th>prob_of_default</th>\n",
              "      <th>binary_prob_of_default</th>\n",
              "    </tr>\n",
              "  </thead>\n",
              "  <tbody>\n",
              "    <tr>\n",
              "      <th>32576</th>\n",
              "      <td>32577</td>\n",
              "      <td>0.192444</td>\n",
              "      <td>0.0</td>\n",
              "    </tr>\n",
              "    <tr>\n",
              "      <th>32577</th>\n",
              "      <td>32578</td>\n",
              "      <td>0.036982</td>\n",
              "      <td>0.0</td>\n",
              "    </tr>\n",
              "    <tr>\n",
              "      <th>32578</th>\n",
              "      <td>32579</td>\n",
              "      <td>0.887715</td>\n",
              "      <td>1.0</td>\n",
              "    </tr>\n",
              "    <tr>\n",
              "      <th>32579</th>\n",
              "      <td>32580</td>\n",
              "      <td>0.013158</td>\n",
              "      <td>0.0</td>\n",
              "    </tr>\n",
              "    <tr>\n",
              "      <th>32580</th>\n",
              "      <td>32581</td>\n",
              "      <td>0.415900</td>\n",
              "      <td>0.0</td>\n",
              "    </tr>\n",
              "  </tbody>\n",
              "</table>\n",
              "</div>"
            ],
            "text/plain": [
              "       Cust_Id  prob_of_default  binary_prob_of_default\n",
              "32576    32577         0.192444                     0.0\n",
              "32577    32578         0.036982                     0.0\n",
              "32578    32579         0.887715                     1.0\n",
              "32579    32580         0.013158                     0.0\n",
              "32580    32581         0.415900                     0.0"
            ]
          },
          "metadata": {
            "tags": []
          },
          "execution_count": 175
        }
      ]
    },
    {
      "cell_type": "markdown",
      "metadata": {
        "id": "YEKLDv2rNARr"
      },
      "source": [
        "#Working on EAD model"
      ]
    },
    {
      "cell_type": "code",
      "metadata": {
        "colab": {
          "base_uri": "https://localhost:8080/",
          "height": 149
        },
        "id": "KMoahD6IM-qu",
        "outputId": "42fe4452-4dc0-49d5-8af3-afa7d90ef1ef"
      },
      "source": [
        "df.head(2)"
      ],
      "execution_count": null,
      "outputs": [
        {
          "output_type": "execute_result",
          "data": {
            "text/html": [
              "<div>\n",
              "<style scoped>\n",
              "    .dataframe tbody tr th:only-of-type {\n",
              "        vertical-align: middle;\n",
              "    }\n",
              "\n",
              "    .dataframe tbody tr th {\n",
              "        vertical-align: top;\n",
              "    }\n",
              "\n",
              "    .dataframe thead th {\n",
              "        text-align: right;\n",
              "    }\n",
              "</style>\n",
              "<table border=\"1\" class=\"dataframe\">\n",
              "  <thead>\n",
              "    <tr style=\"text-align: right;\">\n",
              "      <th></th>\n",
              "      <th>Age</th>\n",
              "      <th>Car Ownership</th>\n",
              "      <th>Income</th>\n",
              "      <th>Job Experience</th>\n",
              "      <th>Loan Balance</th>\n",
              "      <th>Interest Rate</th>\n",
              "      <th>loan_status</th>\n",
              "      <th>Credit History</th>\n",
              "      <th>Location_Bangalore</th>\n",
              "      <th>Location_Chennai</th>\n",
              "      <th>Location_Delhi</th>\n",
              "      <th>Location_Hyderabad</th>\n",
              "      <th>Location_Kolkata</th>\n",
              "      <th>Location_Mumbai</th>\n",
              "      <th>Location_Pune</th>\n",
              "      <th>Home Type_MORTGAGE</th>\n",
              "      <th>Home Type_OTHER</th>\n",
              "      <th>Home Type_OWN</th>\n",
              "      <th>Home Type_RENT</th>\n",
              "      <th>Loan Purpose_DEBTCONSOLIDATION</th>\n",
              "      <th>Loan Purpose_EDUCATION</th>\n",
              "      <th>Loan Purpose_HOMEIMPROVEMENT</th>\n",
              "      <th>Loan Purpose_MEDICAL</th>\n",
              "      <th>Loan Purpose_PERSONAL</th>\n",
              "      <th>Loan Purpose_VENTURE</th>\n",
              "      <th>Loan Grade_A</th>\n",
              "      <th>Loan Grade_B</th>\n",
              "      <th>Loan Grade_C</th>\n",
              "      <th>Loan Grade_D</th>\n",
              "      <th>Loan Grade_E</th>\n",
              "      <th>Loan Grade_F</th>\n",
              "      <th>Loan Grade_G</th>\n",
              "      <th>Default History_N</th>\n",
              "      <th>Default History_Y</th>\n",
              "    </tr>\n",
              "  </thead>\n",
              "  <tbody>\n",
              "    <tr>\n",
              "      <th>0</th>\n",
              "      <td>22.0</td>\n",
              "      <td>0.0</td>\n",
              "      <td>4425000.0</td>\n",
              "      <td>123.0</td>\n",
              "      <td>2625000.0</td>\n",
              "      <td>16.02</td>\n",
              "      <td>1.0</td>\n",
              "      <td>3.0</td>\n",
              "      <td>0.0</td>\n",
              "      <td>0.0</td>\n",
              "      <td>0.0</td>\n",
              "      <td>1.0</td>\n",
              "      <td>0.0</td>\n",
              "      <td>0.0</td>\n",
              "      <td>0.0</td>\n",
              "      <td>0.0</td>\n",
              "      <td>0.0</td>\n",
              "      <td>0.0</td>\n",
              "      <td>1.0</td>\n",
              "      <td>0.0</td>\n",
              "      <td>0.0</td>\n",
              "      <td>0.0</td>\n",
              "      <td>0.0</td>\n",
              "      <td>1.0</td>\n",
              "      <td>0.0</td>\n",
              "      <td>0.0</td>\n",
              "      <td>0.0</td>\n",
              "      <td>0.0</td>\n",
              "      <td>1.0</td>\n",
              "      <td>0.0</td>\n",
              "      <td>0.0</td>\n",
              "      <td>0.0</td>\n",
              "      <td>0.0</td>\n",
              "      <td>1.0</td>\n",
              "    </tr>\n",
              "    <tr>\n",
              "      <th>1</th>\n",
              "      <td>21.0</td>\n",
              "      <td>1.0</td>\n",
              "      <td>720000.0</td>\n",
              "      <td>5.0</td>\n",
              "      <td>75000.0</td>\n",
              "      <td>11.14</td>\n",
              "      <td>0.0</td>\n",
              "      <td>2.0</td>\n",
              "      <td>0.0</td>\n",
              "      <td>0.0</td>\n",
              "      <td>0.0</td>\n",
              "      <td>0.0</td>\n",
              "      <td>0.0</td>\n",
              "      <td>0.0</td>\n",
              "      <td>1.0</td>\n",
              "      <td>0.0</td>\n",
              "      <td>0.0</td>\n",
              "      <td>1.0</td>\n",
              "      <td>0.0</td>\n",
              "      <td>0.0</td>\n",
              "      <td>1.0</td>\n",
              "      <td>0.0</td>\n",
              "      <td>0.0</td>\n",
              "      <td>0.0</td>\n",
              "      <td>0.0</td>\n",
              "      <td>0.0</td>\n",
              "      <td>1.0</td>\n",
              "      <td>0.0</td>\n",
              "      <td>0.0</td>\n",
              "      <td>0.0</td>\n",
              "      <td>0.0</td>\n",
              "      <td>0.0</td>\n",
              "      <td>1.0</td>\n",
              "      <td>0.0</td>\n",
              "    </tr>\n",
              "  </tbody>\n",
              "</table>\n",
              "</div>"
            ],
            "text/plain": [
              "    Age  Car Ownership  ...  Default History_N  Default History_Y\n",
              "0  22.0            0.0  ...                0.0                1.0\n",
              "1  21.0            1.0  ...                1.0                0.0\n",
              "\n",
              "[2 rows x 34 columns]"
            ]
          },
          "metadata": {
            "tags": []
          },
          "execution_count": 176
        }
      ]
    },
    {
      "cell_type": "code",
      "metadata": {
        "colab": {
          "base_uri": "https://localhost:8080/"
        },
        "id": "xYwU9gtBWO3T",
        "outputId": "a1af1f77-af0f-46f5-aa9b-01bffe34e3fa"
      },
      "source": [
        "df.columns"
      ],
      "execution_count": null,
      "outputs": [
        {
          "output_type": "execute_result",
          "data": {
            "text/plain": [
              "Index(['Age', 'Car Ownership', 'Income', 'Job Experience', 'Loan Balance',\n",
              "       'Interest Rate', 'loan_status', 'Credit History', 'Location_Bangalore',\n",
              "       'Location_Chennai', 'Location_Delhi', 'Location_Hyderabad',\n",
              "       'Location_Kolkata', 'Location_Mumbai', 'Location_Pune',\n",
              "       'Home Type_MORTGAGE', 'Home Type_OTHER', 'Home Type_OWN',\n",
              "       'Home Type_RENT', 'Loan Purpose_DEBTCONSOLIDATION',\n",
              "       'Loan Purpose_EDUCATION', 'Loan Purpose_HOMEIMPROVEMENT',\n",
              "       'Loan Purpose_MEDICAL', 'Loan Purpose_PERSONAL', 'Loan Purpose_VENTURE',\n",
              "       'Loan Grade_A', 'Loan Grade_B', 'Loan Grade_C', 'Loan Grade_D',\n",
              "       'Loan Grade_E', 'Loan Grade_F', 'Loan Grade_G', 'Default History_N',\n",
              "       'Default History_Y'],\n",
              "      dtype='object')"
            ]
          },
          "metadata": {
            "tags": []
          },
          "execution_count": 177
        }
      ]
    },
    {
      "cell_type": "code",
      "metadata": {
        "colab": {
          "base_uri": "https://localhost:8080/"
        },
        "id": "nEw32wKG-lQK",
        "outputId": "d08edea8-a0ce-4803-fe0d-5eb91a1d1e78"
      },
      "source": [
        "df.shape"
      ],
      "execution_count": null,
      "outputs": [
        {
          "output_type": "execute_result",
          "data": {
            "text/plain": [
              "(32581, 34)"
            ]
          },
          "metadata": {
            "tags": []
          },
          "execution_count": 178
        }
      ]
    },
    {
      "cell_type": "code",
      "metadata": {
        "id": "n1lO_qVDM_MQ"
      },
      "source": [
        "x = df.drop(columns=['Loan Balance'], axis=1)\n",
        "y = df[['Loan Balance']]"
      ],
      "execution_count": null,
      "outputs": []
    },
    {
      "cell_type": "code",
      "metadata": {
        "colab": {
          "base_uri": "https://localhost:8080/"
        },
        "id": "0uTBss70-qq3",
        "outputId": "2889eca0-2e49-40d3-f69a-dc51c3c0776f"
      },
      "source": [
        "x_train.columns"
      ],
      "execution_count": null,
      "outputs": [
        {
          "output_type": "execute_result",
          "data": {
            "text/plain": [
              "Index(['Age', 'Car Ownership', 'Income', 'Job Experience', 'Interest Rate',\n",
              "       'Credit History', 'Location_Bangalore', 'Location_Chennai',\n",
              "       'Location_Delhi', 'Location_Hyderabad', 'Location_Kolkata',\n",
              "       'Location_Mumbai', 'Location_Pune', 'Home Type_MORTGAGE',\n",
              "       'Home Type_OTHER', 'Home Type_OWN', 'Home Type_RENT',\n",
              "       'Loan Purpose_DEBTCONSOLIDATION', 'Loan Purpose_EDUCATION',\n",
              "       'Loan Purpose_HOMEIMPROVEMENT', 'Loan Purpose_MEDICAL',\n",
              "       'Loan Purpose_PERSONAL', 'Loan Purpose_VENTURE', 'Loan Grade_A',\n",
              "       'Loan Grade_B', 'Loan Grade_C', 'Loan Grade_D', 'Loan Grade_E',\n",
              "       'Loan Grade_F', 'Loan Grade_G', 'Default History_N',\n",
              "       'Default History_Y'],\n",
              "      dtype='object')"
            ]
          },
          "metadata": {
            "tags": []
          },
          "execution_count": 180
        }
      ]
    },
    {
      "cell_type": "code",
      "metadata": {
        "id": "DXt_x3wiWdM9"
      },
      "source": [
        "x_train, x_test, y_train, y_test = train_test_split(x,y, test_size=0.25, random_state=99)"
      ],
      "execution_count": null,
      "outputs": []
    },
    {
      "cell_type": "code",
      "metadata": {
        "colab": {
          "base_uri": "https://localhost:8080/"
        },
        "id": "n6r2AYWKWm0s",
        "outputId": "c71ca436-4cd7-4ae3-82d9-2bd49a464c0b"
      },
      "source": [
        "from sklearn.linear_model import LinearRegression\n",
        "lr = LinearRegression()\n",
        "\n",
        "lr.fit(x_train, y_train)\n",
        "\n",
        "y_train_pred = lr.predict(x_train)\n",
        "y_test_pred = lr.predict(x_test)\n",
        "\n",
        "from sklearn.metrics import r2_score\n",
        "\n",
        "print('Training R2 score: ', r2_score(y_train, y_train_pred))\n",
        "print('Testing R2 score: ', r2_score(y_test, y_test_pred))"
      ],
      "execution_count": null,
      "outputs": [
        {
          "output_type": "stream",
          "text": [
            "Training R2 score:  0.12540363183729542\n",
            "Testing R2 score:  0.1520436632426423\n"
          ],
          "name": "stdout"
        }
      ]
    },
    {
      "cell_type": "code",
      "metadata": {
        "colab": {
          "base_uri": "https://localhost:8080/"
        },
        "id": "ttfeTQt0XHZ-",
        "outputId": "a4a4c3d3-64f1-4e52-92b0-9a4ab6423a0c"
      },
      "source": [
        "from sklearn.ensemble import RandomForestRegressor\n",
        "\n",
        "rf = RandomForestRegressor(n_estimators=200)\n",
        "\n",
        "rf.fit(x_train, y_train)\n",
        "\n",
        "y_train_pred_rf = rf.predict(x_train)\n",
        "y_test_pred_rf = rf.predict(x_test)\n",
        "\n",
        "print('Training R2 score: ', r2_score(y_train, y_train_pred_rf))\n",
        "print('Testing R2 score: ', r2_score(y_test, y_test_pred_rf))"
      ],
      "execution_count": null,
      "outputs": [
        {
          "output_type": "stream",
          "text": [
            "Training R2 score:  0.905372370473698\n",
            "Testing R2 score:  0.30819888174742327\n"
          ],
          "name": "stdout"
        }
      ]
    },
    {
      "cell_type": "code",
      "metadata": {
        "colab": {
          "base_uri": "https://localhost:8080/"
        },
        "id": "nF3icAhQZa2D",
        "outputId": "bd7d5238-6e8d-4cdc-9b03-79feaba9295a"
      },
      "source": [
        "from xgboost import XGBRegressor\n",
        "\n",
        "xgb = XGBRegressor()\n",
        "\n",
        "xgb.fit(x_train, y_train)\n",
        "\n",
        "y_train_pred_xgb = xgb.predict(x_train)\n",
        "y_test_pred_xgb = xgb.predict(x_test)\n",
        "\n",
        "print('Training R2 score: ', r2_score(y_train, y_train_pred_xgb))\n",
        "print('Testing R2 score: ', r2_score(y_test, y_test_pred_xgb))"
      ],
      "execution_count": null,
      "outputs": [
        {
          "output_type": "stream",
          "text": [
            "[17:05:27] WARNING: /workspace/src/objective/regression_obj.cu:152: reg:linear is now deprecated in favor of reg:squarederror.\n",
            "Training R2 score:  0.316698399470682\n",
            "Testing R2 score:  0.2969637639088494\n"
          ],
          "name": "stdout"
        }
      ]
    },
    {
      "cell_type": "markdown",
      "metadata": {
        "id": "jEO-ldqdIyxq"
      },
      "source": [
        "For EAD model, we are going with RandomForestRegressor model"
      ]
    },
    {
      "cell_type": "markdown",
      "metadata": {
        "id": "TsMwVmaY0Oj4"
      },
      "source": [
        "# LGD Model"
      ]
    },
    {
      "cell_type": "markdown",
      "metadata": {
        "id": "Q1p6j_WKI-rj"
      },
      "source": [
        "For LGD, as neither recovery rate is given nor actual funded amount, so we assumed LGD as two values--50% or 100%"
      ]
    },
    {
      "cell_type": "code",
      "metadata": {
        "id": "7AYUeLMc_gHf"
      },
      "source": [
        "prediction_EAD= rf.predict(x)"
      ],
      "execution_count": null,
      "outputs": []
    },
    {
      "cell_type": "code",
      "metadata": {
        "id": "S8wmxUnluToT"
      },
      "source": [
        "final=pd.concat((df0['Cust_Id'],pd.Series(prediction_D_PROBA[:,1]),pd.Series(prediction_D),\n",
        "                pd.Series(prediction_EAD)), axis=1)\n",
        "final.columns= ['Cust_Id','prob_of_default','binary_prob_of_default','EAD']\n",
        "final['LGD:0.5']=0.5\n",
        "final['LGD:1']=1\n",
        "final['Expected Loss using LGD:0.5']=(final[\"prob_of_default\"]*final[\"EAD\"]*final[\"LGD:0.5\"])\n",
        "final['Expected Loss using LGD:1']=(final[\"prob_of_default\"]*final[\"EAD\"]*final[\"LGD:1\"])"
      ],
      "execution_count": null,
      "outputs": []
    },
    {
      "cell_type": "code",
      "metadata": {
        "colab": {
          "base_uri": "https://localhost:8080/",
          "height": 223
        },
        "id": "7ySlTMCLAS-t",
        "outputId": "ee700dad-4b4a-4291-adcc-481e360e3ee3"
      },
      "source": [
        "final.head()"
      ],
      "execution_count": null,
      "outputs": [
        {
          "output_type": "execute_result",
          "data": {
            "text/html": [
              "<div>\n",
              "<style scoped>\n",
              "    .dataframe tbody tr th:only-of-type {\n",
              "        vertical-align: middle;\n",
              "    }\n",
              "\n",
              "    .dataframe tbody tr th {\n",
              "        vertical-align: top;\n",
              "    }\n",
              "\n",
              "    .dataframe thead th {\n",
              "        text-align: right;\n",
              "    }\n",
              "</style>\n",
              "<table border=\"1\" class=\"dataframe\">\n",
              "  <thead>\n",
              "    <tr style=\"text-align: right;\">\n",
              "      <th></th>\n",
              "      <th>Cust_Id</th>\n",
              "      <th>prob_of_default</th>\n",
              "      <th>binary_prob_of_default</th>\n",
              "      <th>EAD</th>\n",
              "      <th>LGD:0.5</th>\n",
              "      <th>LGD:1</th>\n",
              "      <th>Expected Loss using LGD:0.5</th>\n",
              "      <th>Expected Loss using LGD:1</th>\n",
              "    </tr>\n",
              "  </thead>\n",
              "  <tbody>\n",
              "    <tr>\n",
              "      <th>0</th>\n",
              "      <td>1</td>\n",
              "      <td>0.954286</td>\n",
              "      <td>1.0</td>\n",
              "      <td>1117837.500</td>\n",
              "      <td>0.5</td>\n",
              "      <td>1</td>\n",
              "      <td>533368.414252</td>\n",
              "      <td>1.066737e+06</td>\n",
              "    </tr>\n",
              "    <tr>\n",
              "      <th>1</th>\n",
              "      <td>2</td>\n",
              "      <td>0.151408</td>\n",
              "      <td>0.0</td>\n",
              "      <td>80025.000</td>\n",
              "      <td>0.5</td>\n",
              "      <td>1</td>\n",
              "      <td>6058.228309</td>\n",
              "      <td>1.211646e+04</td>\n",
              "    </tr>\n",
              "    <tr>\n",
              "      <th>2</th>\n",
              "      <td>3</td>\n",
              "      <td>0.712641</td>\n",
              "      <td>1.0</td>\n",
              "      <td>144909.375</td>\n",
              "      <td>0.5</td>\n",
              "      <td>1</td>\n",
              "      <td>51634.180025</td>\n",
              "      <td>1.032684e+05</td>\n",
              "    </tr>\n",
              "    <tr>\n",
              "      <th>3</th>\n",
              "      <td>4</td>\n",
              "      <td>0.944873</td>\n",
              "      <td>1.0</td>\n",
              "      <td>965587.500</td>\n",
              "      <td>0.5</td>\n",
              "      <td>1</td>\n",
              "      <td>456178.774047</td>\n",
              "      <td>9.123575e+05</td>\n",
              "    </tr>\n",
              "    <tr>\n",
              "      <th>4</th>\n",
              "      <td>5</td>\n",
              "      <td>0.960107</td>\n",
              "      <td>1.0</td>\n",
              "      <td>2020012.500</td>\n",
              "      <td>0.5</td>\n",
              "      <td>1</td>\n",
              "      <td>969713.807185</td>\n",
              "      <td>1.939428e+06</td>\n",
              "    </tr>\n",
              "  </tbody>\n",
              "</table>\n",
              "</div>"
            ],
            "text/plain": [
              "   Cust_Id  ...  Expected Loss using LGD:1\n",
              "0        1  ...               1.066737e+06\n",
              "1        2  ...               1.211646e+04\n",
              "2        3  ...               1.032684e+05\n",
              "3        4  ...               9.123575e+05\n",
              "4        5  ...               1.939428e+06\n",
              "\n",
              "[5 rows x 8 columns]"
            ]
          },
          "metadata": {
            "tags": []
          },
          "execution_count": 191
        }
      ]
    },
    {
      "cell_type": "code",
      "metadata": {
        "id": "SDyYkVIXuT3T"
      },
      "source": [
        "Total_Expected_loss1= final[\"Expected Loss using LGD:0.5\"].sum()"
      ],
      "execution_count": null,
      "outputs": []
    },
    {
      "cell_type": "code",
      "metadata": {
        "id": "Mas4GtcFIjRP"
      },
      "source": [
        "Total_Expected_loss2=final[\"Expected Loss using LGD:1\"].sum()"
      ],
      "execution_count": null,
      "outputs": []
    },
    {
      "cell_type": "code",
      "metadata": {
        "id": "-2vyhaLIuNXf",
        "colab": {
          "base_uri": "https://localhost:8080/"
        },
        "outputId": "2b8c1cef-e719-4aa7-8a10-a2b0434f0a17"
      },
      "source": [
        "Total_Expected_loss1"
      ],
      "execution_count": null,
      "outputs": [
        {
          "output_type": "execute_result",
          "data": {
            "text/plain": [
              "4636980494.356386"
            ]
          },
          "metadata": {
            "tags": []
          },
          "execution_count": 197
        }
      ]
    },
    {
      "cell_type": "code",
      "metadata": {
        "colab": {
          "base_uri": "https://localhost:8080/"
        },
        "id": "-ibAvZWBIn8_",
        "outputId": "dae0b75c-548c-4cc0-9ca7-378c5b066703"
      },
      "source": [
        "Total_Expected_loss2"
      ],
      "execution_count": null,
      "outputs": [
        {
          "output_type": "execute_result",
          "data": {
            "text/plain": [
              "9273960988.712772"
            ]
          },
          "metadata": {
            "tags": []
          },
          "execution_count": 199
        }
      ]
    },
    {
      "cell_type": "markdown",
      "metadata": {
        "id": "KbkeLpgVuSMi"
      },
      "source": [
        ""
      ]
    }
  ]
}